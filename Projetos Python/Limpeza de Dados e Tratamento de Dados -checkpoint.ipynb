{
 "cells": [
  {
   "cell_type": "markdown",
   "id": "27dd64cf",
   "metadata": {},
   "source": [
    "# Limpeza e Tratamento de Dados no Arquivo Alunos\n",
    "\n",
    "O arquivo trabalhado possui diversos problemas nos dados. A ideia principal aqui é limpar e tratar os dados para que possam ser devidamente utilizados. \n",
    "\n",
    "Ações realizadas:\n",
    "\n",
    "    1. Importação bibliotecas e verificação da(s) base(s)\n",
    "    2. Limpeza e Tratamento dos dados nulos/vazios, duplicados, escritos errados\n",
    "    3. Estatística básica e união de dados\n",
    "    4. Limpeza e Tratamentos para textos\n"
   ]
  },
  {
   "cell_type": "code",
   "execution_count": 1,
   "id": "fbda4588",
   "metadata": {},
   "outputs": [],
   "source": [
    "# Importando o pandas\n",
    "import pandas as pd\n",
    "import matplotlib.pyplot as plt\n",
    "import numpy as np"
   ]
  },
  {
   "cell_type": "code",
   "execution_count": 2,
   "id": "0b39bbd0",
   "metadata": {},
   "outputs": [],
   "source": [
    "# Importando a aba \"pagamento\" da base de alunos\n",
    "base = pd.read_excel('alunos.xlsx',sheet_name='pagamento')"
   ]
  },
  {
   "cell_type": "code",
   "execution_count": 3,
   "id": "36f7a30e",
   "metadata": {},
   "outputs": [
    {
     "data": {
      "text/html": [
       "<div>\n",
       "<style scoped>\n",
       "    .dataframe tbody tr th:only-of-type {\n",
       "        vertical-align: middle;\n",
       "    }\n",
       "\n",
       "    .dataframe tbody tr th {\n",
       "        vertical-align: top;\n",
       "    }\n",
       "\n",
       "    .dataframe thead th {\n",
       "        text-align: right;\n",
       "    }\n",
       "</style>\n",
       "<table border=\"1\" class=\"dataframe\">\n",
       "  <thead>\n",
       "    <tr style=\"text-align: right;\">\n",
       "      <th></th>\n",
       "      <th>ID_aluno</th>\n",
       "      <th>Mensalidade</th>\n",
       "      <th>Situacao</th>\n",
       "      <th>Meses atraso</th>\n",
       "    </tr>\n",
       "  </thead>\n",
       "  <tbody>\n",
       "    <tr>\n",
       "      <th>0</th>\n",
       "      <td>1</td>\n",
       "      <td>1660</td>\n",
       "      <td>Pago</td>\n",
       "      <td>NaN</td>\n",
       "    </tr>\n",
       "    <tr>\n",
       "      <th>1</th>\n",
       "      <td>2</td>\n",
       "      <td>1610</td>\n",
       "      <td>Atrasado</td>\n",
       "      <td>2.0</td>\n",
       "    </tr>\n",
       "  </tbody>\n",
       "</table>\n",
       "</div>"
      ],
      "text/plain": [
       "   ID_aluno Mensalidade  Situacao  Meses atraso\n",
       "0         1        1660      Pago           NaN\n",
       "1         2        1610  Atrasado           2.0"
      ]
     },
     "execution_count": 3,
     "metadata": {},
     "output_type": "execute_result"
    }
   ],
   "source": [
    "# Visualizando base\n",
    "base.head(2)"
   ]
  },
  {
   "cell_type": "code",
   "execution_count": 4,
   "id": "473f64d8",
   "metadata": {},
   "outputs": [
    {
     "name": "stdout",
     "output_type": "stream",
     "text": [
      "<class 'pandas.core.frame.DataFrame'>\n",
      "RangeIndex: 17 entries, 0 to 16\n",
      "Data columns (total 4 columns):\n",
      " #   Column        Non-Null Count  Dtype  \n",
      "---  ------        --------------  -----  \n",
      " 0   ID_aluno      17 non-null     int64  \n",
      " 1   Mensalidade   16 non-null     object \n",
      " 2   Situacao      17 non-null     object \n",
      " 3   Meses atraso  6 non-null      float64\n",
      "dtypes: float64(1), int64(1), object(2)\n",
      "memory usage: 672.0+ bytes\n"
     ]
    }
   ],
   "source": [
    "# Checando informações (número de valores não nulos, tipo dos dados, etc)\n",
    "base.info()"
   ]
  },
  {
   "cell_type": "markdown",
   "id": "498b1533",
   "metadata": {},
   "source": [
    "### Verificando valores vazios/nulos"
   ]
  },
  {
   "cell_type": "code",
   "execution_count": 5,
   "id": "d6d676bc",
   "metadata": {},
   "outputs": [
    {
     "data": {
      "text/html": [
       "<div>\n",
       "<style scoped>\n",
       "    .dataframe tbody tr th:only-of-type {\n",
       "        vertical-align: middle;\n",
       "    }\n",
       "\n",
       "    .dataframe tbody tr th {\n",
       "        vertical-align: top;\n",
       "    }\n",
       "\n",
       "    .dataframe thead th {\n",
       "        text-align: right;\n",
       "    }\n",
       "</style>\n",
       "<table border=\"1\" class=\"dataframe\">\n",
       "  <thead>\n",
       "    <tr style=\"text-align: right;\">\n",
       "      <th></th>\n",
       "      <th>ID_aluno</th>\n",
       "      <th>Mensalidade</th>\n",
       "      <th>Situacao</th>\n",
       "      <th>Meses atraso</th>\n",
       "    </tr>\n",
       "  </thead>\n",
       "  <tbody>\n",
       "    <tr>\n",
       "      <th>7</th>\n",
       "      <td>8</td>\n",
       "      <td>NaN</td>\n",
       "      <td>Pago</td>\n",
       "      <td>NaN</td>\n",
       "    </tr>\n",
       "  </tbody>\n",
       "</table>\n",
       "</div>"
      ],
      "text/plain": [
       "   ID_aluno Mensalidade Situacao  Meses atraso\n",
       "7         8         NaN     Pago           NaN"
      ]
     },
     "execution_count": 5,
     "metadata": {},
     "output_type": "execute_result"
    }
   ],
   "source": [
    "# Verificando se temos valores vazios na coluna Mensalidade\n",
    "base[base.Mensalidade.isnull()]"
   ]
  },
  {
   "cell_type": "code",
   "execution_count": 6,
   "id": "15198391",
   "metadata": {},
   "outputs": [
    {
     "data": {
      "text/html": [
       "<div>\n",
       "<style scoped>\n",
       "    .dataframe tbody tr th:only-of-type {\n",
       "        vertical-align: middle;\n",
       "    }\n",
       "\n",
       "    .dataframe tbody tr th {\n",
       "        vertical-align: top;\n",
       "    }\n",
       "\n",
       "    .dataframe thead th {\n",
       "        text-align: right;\n",
       "    }\n",
       "</style>\n",
       "<table border=\"1\" class=\"dataframe\">\n",
       "  <thead>\n",
       "    <tr style=\"text-align: right;\">\n",
       "      <th></th>\n",
       "      <th>ID_aluno</th>\n",
       "      <th>Mensalidade</th>\n",
       "      <th>Situacao</th>\n",
       "      <th>Meses atraso</th>\n",
       "    </tr>\n",
       "  </thead>\n",
       "  <tbody>\n",
       "    <tr>\n",
       "      <th>0</th>\n",
       "      <td>1</td>\n",
       "      <td>1660</td>\n",
       "      <td>Pago</td>\n",
       "      <td>NaN</td>\n",
       "    </tr>\n",
       "    <tr>\n",
       "      <th>2</th>\n",
       "      <td>3</td>\n",
       "      <td>1,650.00</td>\n",
       "      <td>Pago</td>\n",
       "      <td>NaN</td>\n",
       "    </tr>\n",
       "    <tr>\n",
       "      <th>5</th>\n",
       "      <td>6</td>\n",
       "      <td>1760</td>\n",
       "      <td>Pago</td>\n",
       "      <td>NaN</td>\n",
       "    </tr>\n",
       "    <tr>\n",
       "      <th>7</th>\n",
       "      <td>8</td>\n",
       "      <td>NaN</td>\n",
       "      <td>Pago</td>\n",
       "      <td>NaN</td>\n",
       "    </tr>\n",
       "    <tr>\n",
       "      <th>8</th>\n",
       "      <td>9</td>\n",
       "      <td>1650</td>\n",
       "      <td>Pago</td>\n",
       "      <td>NaN</td>\n",
       "    </tr>\n",
       "    <tr>\n",
       "      <th>10</th>\n",
       "      <td>11</td>\n",
       "      <td>1710</td>\n",
       "      <td>Pago</td>\n",
       "      <td>NaN</td>\n",
       "    </tr>\n",
       "    <tr>\n",
       "      <th>11</th>\n",
       "      <td>12</td>\n",
       "      <td>1630</td>\n",
       "      <td>Pago</td>\n",
       "      <td>NaN</td>\n",
       "    </tr>\n",
       "    <tr>\n",
       "      <th>13</th>\n",
       "      <td>14</td>\n",
       "      <td>1700</td>\n",
       "      <td>Pago</td>\n",
       "      <td>NaN</td>\n",
       "    </tr>\n",
       "    <tr>\n",
       "      <th>14</th>\n",
       "      <td>15</td>\n",
       "      <td>1710</td>\n",
       "      <td>Pago</td>\n",
       "      <td>NaN</td>\n",
       "    </tr>\n",
       "    <tr>\n",
       "      <th>15</th>\n",
       "      <td>14</td>\n",
       "      <td>1700</td>\n",
       "      <td>Pago</td>\n",
       "      <td>NaN</td>\n",
       "    </tr>\n",
       "    <tr>\n",
       "      <th>16</th>\n",
       "      <td>15</td>\n",
       "      <td>1710</td>\n",
       "      <td>Pago</td>\n",
       "      <td>NaN</td>\n",
       "    </tr>\n",
       "  </tbody>\n",
       "</table>\n",
       "</div>"
      ],
      "text/plain": [
       "    ID_aluno Mensalidade Situacao  Meses atraso\n",
       "0          1        1660     Pago           NaN\n",
       "2          3    1,650.00     Pago           NaN\n",
       "5          6        1760     Pago           NaN\n",
       "7          8         NaN     Pago           NaN\n",
       "8          9        1650     Pago           NaN\n",
       "10        11        1710     Pago           NaN\n",
       "11        12        1630     Pago           NaN\n",
       "13        14        1700     Pago           NaN\n",
       "14        15        1710     Pago           NaN\n",
       "15        14        1700     Pago           NaN\n",
       "16        15        1710     Pago           NaN"
      ]
     },
     "execution_count": 6,
     "metadata": {},
     "output_type": "execute_result"
    }
   ],
   "source": [
    "# E verificando os valores vazios na coluna Meses atraso\n",
    "base[base['Meses atraso'].isnull()]"
   ]
  },
  {
   "cell_type": "markdown",
   "id": "c7090218",
   "metadata": {},
   "source": [
    "### Verificando e tratando duplicatas "
   ]
  },
  {
   "cell_type": "code",
   "execution_count": 7,
   "id": "d4523671",
   "metadata": {},
   "outputs": [
    {
     "data": {
      "text/html": [
       "<div>\n",
       "<style scoped>\n",
       "    .dataframe tbody tr th:only-of-type {\n",
       "        vertical-align: middle;\n",
       "    }\n",
       "\n",
       "    .dataframe tbody tr th {\n",
       "        vertical-align: top;\n",
       "    }\n",
       "\n",
       "    .dataframe thead th {\n",
       "        text-align: right;\n",
       "    }\n",
       "</style>\n",
       "<table border=\"1\" class=\"dataframe\">\n",
       "  <thead>\n",
       "    <tr style=\"text-align: right;\">\n",
       "      <th></th>\n",
       "      <th>ID_aluno</th>\n",
       "      <th>Mensalidade</th>\n",
       "      <th>Situacao</th>\n",
       "      <th>Meses atraso</th>\n",
       "    </tr>\n",
       "  </thead>\n",
       "  <tbody>\n",
       "    <tr>\n",
       "      <th>15</th>\n",
       "      <td>14</td>\n",
       "      <td>1700</td>\n",
       "      <td>Pago</td>\n",
       "      <td>NaN</td>\n",
       "    </tr>\n",
       "    <tr>\n",
       "      <th>16</th>\n",
       "      <td>15</td>\n",
       "      <td>1710</td>\n",
       "      <td>Pago</td>\n",
       "      <td>NaN</td>\n",
       "    </tr>\n",
       "  </tbody>\n",
       "</table>\n",
       "</div>"
      ],
      "text/plain": [
       "    ID_aluno Mensalidade Situacao  Meses atraso\n",
       "15        14        1700     Pago           NaN\n",
       "16        15        1710     Pago           NaN"
      ]
     },
     "execution_count": 7,
     "metadata": {},
     "output_type": "execute_result"
    }
   ],
   "source": [
    "# Verificando se existe valores duplicados\n",
    "base[base.duplicated()]"
   ]
  },
  {
   "cell_type": "code",
   "execution_count": 8,
   "id": "72b66478",
   "metadata": {},
   "outputs": [],
   "source": [
    "# Ajustando os valores duplicados\n",
    "base = base[~base.duplicated()]"
   ]
  },
  {
   "cell_type": "markdown",
   "id": "003859f3",
   "metadata": {},
   "source": [
    "### Verificando e tratando palavras escritas erradas"
   ]
  },
  {
   "cell_type": "code",
   "execution_count": 9,
   "id": "b70af834",
   "metadata": {},
   "outputs": [
    {
     "data": {
      "text/html": [
       "<div>\n",
       "<style scoped>\n",
       "    .dataframe tbody tr th:only-of-type {\n",
       "        vertical-align: middle;\n",
       "    }\n",
       "\n",
       "    .dataframe tbody tr th {\n",
       "        vertical-align: top;\n",
       "    }\n",
       "\n",
       "    .dataframe thead th {\n",
       "        text-align: right;\n",
       "    }\n",
       "</style>\n",
       "<table border=\"1\" class=\"dataframe\">\n",
       "  <thead>\n",
       "    <tr style=\"text-align: right;\">\n",
       "      <th></th>\n",
       "      <th>ID_aluno</th>\n",
       "      <th>Mensalidade</th>\n",
       "      <th>Situacao</th>\n",
       "      <th>Meses atraso</th>\n",
       "    </tr>\n",
       "  </thead>\n",
       "  <tbody>\n",
       "    <tr>\n",
       "      <th>6</th>\n",
       "      <td>7</td>\n",
       "      <td>1620</td>\n",
       "      <td>Atrasdo</td>\n",
       "      <td>5.0</td>\n",
       "    </tr>\n",
       "  </tbody>\n",
       "</table>\n",
       "</div>"
      ],
      "text/plain": [
       "   ID_aluno Mensalidade Situacao  Meses atraso\n",
       "6         7        1620  Atrasdo           5.0"
      ]
     },
     "execution_count": 9,
     "metadata": {},
     "output_type": "execute_result"
    }
   ],
   "source": [
    "# Será que alguma situação foi escrito errado?\n",
    "valores_aceitos = ['Pago','Atrasado']\n",
    "base[~base.Situacao.isin(valores_aceitos)]"
   ]
  },
  {
   "cell_type": "code",
   "execution_count": 10,
   "id": "c0cd4dff",
   "metadata": {},
   "outputs": [
    {
     "data": {
      "text/plain": [
       "Pago        9\n",
       "Atrasado    5\n",
       "Atrasdo     1\n",
       "Name: Situacao, dtype: int64"
      ]
     },
     "execution_count": 10,
     "metadata": {},
     "output_type": "execute_result"
    }
   ],
   "source": [
    "# Contando valores na coluna situação\n",
    "base.Situacao.value_counts()"
   ]
  },
  {
   "cell_type": "code",
   "execution_count": 11,
   "id": "3f785af3",
   "metadata": {},
   "outputs": [],
   "source": [
    "# Tratando o texto digitado errado na Situação\n",
    "base.loc[base.Situacao == 'Atrasdo','Situacao'] = 'Atrasado'"
   ]
  },
  {
   "cell_type": "code",
   "execution_count": 12,
   "id": "8596c7ca",
   "metadata": {},
   "outputs": [
    {
     "data": {
      "text/plain": [
       "Pago        9\n",
       "Atrasado    6\n",
       "Name: Situacao, dtype: int64"
      ]
     },
     "execution_count": 12,
     "metadata": {},
     "output_type": "execute_result"
    }
   ],
   "source": [
    "# Verificando os valores\n",
    "base.Situacao.value_counts()"
   ]
  },
  {
   "cell_type": "markdown",
   "id": "00c98071",
   "metadata": {},
   "source": [
    "### Verificando e Tratando os problemas na coluna Mensalidade"
   ]
  },
  {
   "cell_type": "code",
   "execution_count": 13,
   "id": "9c5bb399",
   "metadata": {},
   "outputs": [
    {
     "ename": "AttributeError",
     "evalue": "'DataFrame' object has no attribute 'Mensalidade_Check'",
     "output_type": "error",
     "traceback": [
      "\u001b[1;31m---------------------------------------------------------------------------\u001b[0m",
      "\u001b[1;31mAttributeError\u001b[0m                            Traceback (most recent call last)",
      "\u001b[1;32m~\\AppData\\Local\\Temp\\ipykernel_296\\4188948176.py\u001b[0m in \u001b[0;36m<module>\u001b[1;34m\u001b[0m\n\u001b[0;32m      1\u001b[0m \u001b[1;31m# Visualizando a base\u001b[0m\u001b[1;33m\u001b[0m\u001b[1;33m\u001b[0m\u001b[0m\n\u001b[1;32m----> 2\u001b[1;33m \u001b[0mbase\u001b[0m\u001b[1;33m[\u001b[0m\u001b[1;33m(\u001b[0m\u001b[0mbase\u001b[0m\u001b[1;33m.\u001b[0m\u001b[0mMensalidade_Check\u001b[0m\u001b[1;33m.\u001b[0m\u001b[0misnull\u001b[0m\u001b[1;33m(\u001b[0m\u001b[1;33m)\u001b[0m\u001b[1;33m)\u001b[0m \u001b[1;33m&\u001b[0m \u001b[1;33m(\u001b[0m\u001b[0mbase\u001b[0m\u001b[1;33m.\u001b[0m\u001b[0mMensalidade\u001b[0m\u001b[1;33m.\u001b[0m\u001b[0mnotnull\u001b[0m\u001b[1;33m(\u001b[0m\u001b[1;33m)\u001b[0m\u001b[1;33m)\u001b[0m\u001b[1;33m]\u001b[0m\u001b[1;33m\u001b[0m\u001b[1;33m\u001b[0m\u001b[0m\n\u001b[0m",
      "\u001b[1;32m~\\anaconda3\\lib\\site-packages\\pandas\\core\\generic.py\u001b[0m in \u001b[0;36m__getattr__\u001b[1;34m(self, name)\u001b[0m\n\u001b[0;32m   5573\u001b[0m         ):\n\u001b[0;32m   5574\u001b[0m             \u001b[1;32mreturn\u001b[0m \u001b[0mself\u001b[0m\u001b[1;33m[\u001b[0m\u001b[0mname\u001b[0m\u001b[1;33m]\u001b[0m\u001b[1;33m\u001b[0m\u001b[1;33m\u001b[0m\u001b[0m\n\u001b[1;32m-> 5575\u001b[1;33m         \u001b[1;32mreturn\u001b[0m \u001b[0mobject\u001b[0m\u001b[1;33m.\u001b[0m\u001b[0m__getattribute__\u001b[0m\u001b[1;33m(\u001b[0m\u001b[0mself\u001b[0m\u001b[1;33m,\u001b[0m \u001b[0mname\u001b[0m\u001b[1;33m)\u001b[0m\u001b[1;33m\u001b[0m\u001b[1;33m\u001b[0m\u001b[0m\n\u001b[0m\u001b[0;32m   5576\u001b[0m \u001b[1;33m\u001b[0m\u001b[0m\n\u001b[0;32m   5577\u001b[0m     \u001b[1;32mdef\u001b[0m \u001b[0m__setattr__\u001b[0m\u001b[1;33m(\u001b[0m\u001b[0mself\u001b[0m\u001b[1;33m,\u001b[0m \u001b[0mname\u001b[0m\u001b[1;33m:\u001b[0m \u001b[0mstr\u001b[0m\u001b[1;33m,\u001b[0m \u001b[0mvalue\u001b[0m\u001b[1;33m)\u001b[0m \u001b[1;33m->\u001b[0m \u001b[1;32mNone\u001b[0m\u001b[1;33m:\u001b[0m\u001b[1;33m\u001b[0m\u001b[1;33m\u001b[0m\u001b[0m\n",
      "\u001b[1;31mAttributeError\u001b[0m: 'DataFrame' object has no attribute 'Mensalidade_Check'"
     ]
    }
   ],
   "source": [
    "# Visualizando a base\n",
    "base[(base.Mensalidade_Check.isnull()) & (base.Mensalidade.notnull())]"
   ]
  },
  {
   "cell_type": "code",
   "execution_count": 17,
   "id": "51a5d980",
   "metadata": {},
   "outputs": [],
   "source": [
    "# Criando uma nova coluna onde o erro do to_numeric resulte em NaN\n",
    "base['Mensalidade_Check'] = pd.to_numeric(base.Mensalidade,errors='coerce')"
   ]
  },
  {
   "cell_type": "code",
   "execution_count": 18,
   "id": "8505afd7",
   "metadata": {},
   "outputs": [],
   "source": [
    "# Podemos substituir o valor faltante por 1670\n",
    "base.loc[base.Mensalidade.isnull(),'Mensalidade'] = 1670"
   ]
  },
  {
   "cell_type": "code",
   "execution_count": 19,
   "id": "d339dd1c",
   "metadata": {},
   "outputs": [],
   "source": [
    "# Transformando valores vazios para 0 para alunos em dia com o pagamento\n",
    "base.loc[base['Meses atraso'].isnull(),'Meses atraso'] = 0"
   ]
  },
  {
   "cell_type": "code",
   "execution_count": 20,
   "id": "20093a96",
   "metadata": {},
   "outputs": [],
   "source": [
    "# Ajustando o valor da mensalidade digitado errado\n",
    "base.loc[base.Mensalidade == '1,650.00','Mensalidade'] = 1650"
   ]
  },
  {
   "cell_type": "code",
   "execution_count": 21,
   "id": "229cde51",
   "metadata": {},
   "outputs": [],
   "source": [
    "# Podemos ajustar a coluna mensalidade com o tipo numérico\n",
    "base['Mensalidade'] = pd.to_numeric(base.Mensalidade)"
   ]
  },
  {
   "cell_type": "code",
   "execution_count": 22,
   "id": "e4a26a63",
   "metadata": {},
   "outputs": [],
   "source": [
    "# Depois dos ajustes, podemos eliminar as colunas que usamos para as validações\n",
    "base = base.drop('Mensalidade_Check',axis=1)"
   ]
  },
  {
   "cell_type": "markdown",
   "id": "3dca1ccf",
   "metadata": {},
   "source": [
    "**Feito os ajustes, podemos visualizar novamente a base**"
   ]
  },
  {
   "cell_type": "code",
   "execution_count": 23,
   "id": "1fc9eaf5",
   "metadata": {},
   "outputs": [
    {
     "data": {
      "text/html": [
       "<div>\n",
       "<style scoped>\n",
       "    .dataframe tbody tr th:only-of-type {\n",
       "        vertical-align: middle;\n",
       "    }\n",
       "\n",
       "    .dataframe tbody tr th {\n",
       "        vertical-align: top;\n",
       "    }\n",
       "\n",
       "    .dataframe thead th {\n",
       "        text-align: right;\n",
       "    }\n",
       "</style>\n",
       "<table border=\"1\" class=\"dataframe\">\n",
       "  <thead>\n",
       "    <tr style=\"text-align: right;\">\n",
       "      <th></th>\n",
       "      <th>ID_aluno</th>\n",
       "      <th>Mensalidade</th>\n",
       "      <th>Situacao</th>\n",
       "      <th>Meses atraso</th>\n",
       "    </tr>\n",
       "  </thead>\n",
       "  <tbody>\n",
       "    <tr>\n",
       "      <th>0</th>\n",
       "      <td>1</td>\n",
       "      <td>1660</td>\n",
       "      <td>Pago</td>\n",
       "      <td>0.0</td>\n",
       "    </tr>\n",
       "    <tr>\n",
       "      <th>1</th>\n",
       "      <td>2</td>\n",
       "      <td>1610</td>\n",
       "      <td>Atrasado</td>\n",
       "      <td>2.0</td>\n",
       "    </tr>\n",
       "    <tr>\n",
       "      <th>2</th>\n",
       "      <td>3</td>\n",
       "      <td>1650</td>\n",
       "      <td>Pago</td>\n",
       "      <td>0.0</td>\n",
       "    </tr>\n",
       "    <tr>\n",
       "      <th>3</th>\n",
       "      <td>4</td>\n",
       "      <td>1770</td>\n",
       "      <td>Atrasado</td>\n",
       "      <td>1.0</td>\n",
       "    </tr>\n",
       "    <tr>\n",
       "      <th>4</th>\n",
       "      <td>5</td>\n",
       "      <td>1790</td>\n",
       "      <td>Atrasado</td>\n",
       "      <td>1.0</td>\n",
       "    </tr>\n",
       "    <tr>\n",
       "      <th>5</th>\n",
       "      <td>6</td>\n",
       "      <td>1760</td>\n",
       "      <td>Pago</td>\n",
       "      <td>0.0</td>\n",
       "    </tr>\n",
       "    <tr>\n",
       "      <th>6</th>\n",
       "      <td>7</td>\n",
       "      <td>1620</td>\n",
       "      <td>Atrasado</td>\n",
       "      <td>5.0</td>\n",
       "    </tr>\n",
       "    <tr>\n",
       "      <th>7</th>\n",
       "      <td>8</td>\n",
       "      <td>1670</td>\n",
       "      <td>Pago</td>\n",
       "      <td>0.0</td>\n",
       "    </tr>\n",
       "    <tr>\n",
       "      <th>8</th>\n",
       "      <td>9</td>\n",
       "      <td>1650</td>\n",
       "      <td>Pago</td>\n",
       "      <td>0.0</td>\n",
       "    </tr>\n",
       "    <tr>\n",
       "      <th>9</th>\n",
       "      <td>10</td>\n",
       "      <td>1640</td>\n",
       "      <td>Atrasado</td>\n",
       "      <td>1.0</td>\n",
       "    </tr>\n",
       "    <tr>\n",
       "      <th>10</th>\n",
       "      <td>11</td>\n",
       "      <td>1710</td>\n",
       "      <td>Pago</td>\n",
       "      <td>0.0</td>\n",
       "    </tr>\n",
       "    <tr>\n",
       "      <th>11</th>\n",
       "      <td>12</td>\n",
       "      <td>1630</td>\n",
       "      <td>Pago</td>\n",
       "      <td>0.0</td>\n",
       "    </tr>\n",
       "    <tr>\n",
       "      <th>12</th>\n",
       "      <td>13</td>\n",
       "      <td>1630</td>\n",
       "      <td>Atrasado</td>\n",
       "      <td>1.0</td>\n",
       "    </tr>\n",
       "    <tr>\n",
       "      <th>13</th>\n",
       "      <td>14</td>\n",
       "      <td>1700</td>\n",
       "      <td>Pago</td>\n",
       "      <td>0.0</td>\n",
       "    </tr>\n",
       "    <tr>\n",
       "      <th>14</th>\n",
       "      <td>15</td>\n",
       "      <td>1710</td>\n",
       "      <td>Pago</td>\n",
       "      <td>0.0</td>\n",
       "    </tr>\n",
       "  </tbody>\n",
       "</table>\n",
       "</div>"
      ],
      "text/plain": [
       "    ID_aluno  Mensalidade  Situacao  Meses atraso\n",
       "0          1         1660      Pago           0.0\n",
       "1          2         1610  Atrasado           2.0\n",
       "2          3         1650      Pago           0.0\n",
       "3          4         1770  Atrasado           1.0\n",
       "4          5         1790  Atrasado           1.0\n",
       "5          6         1760      Pago           0.0\n",
       "6          7         1620  Atrasado           5.0\n",
       "7          8         1670      Pago           0.0\n",
       "8          9         1650      Pago           0.0\n",
       "9         10         1640  Atrasado           1.0\n",
       "10        11         1710      Pago           0.0\n",
       "11        12         1630      Pago           0.0\n",
       "12        13         1630  Atrasado           1.0\n",
       "13        14         1700      Pago           0.0\n",
       "14        15         1710      Pago           0.0"
      ]
     },
     "execution_count": 23,
     "metadata": {},
     "output_type": "execute_result"
    }
   ],
   "source": [
    "# Visualizando a base\n",
    "base"
   ]
  },
  {
   "cell_type": "code",
   "execution_count": 16,
   "id": "ebf08d3e",
   "metadata": {},
   "outputs": [
    {
     "name": "stdout",
     "output_type": "stream",
     "text": [
      "<class 'pandas.core.frame.DataFrame'>\n",
      "Int64Index: 15 entries, 0 to 14\n",
      "Data columns (total 4 columns):\n",
      " #   Column        Non-Null Count  Dtype  \n",
      "---  ------        --------------  -----  \n",
      " 0   ID_aluno      15 non-null     int64  \n",
      " 1   Mensalidade   14 non-null     object \n",
      " 2   Situacao      15 non-null     object \n",
      " 3   Meses atraso  6 non-null      float64\n",
      "dtypes: float64(1), int64(1), object(2)\n",
      "memory usage: 600.0+ bytes\n"
     ]
    }
   ],
   "source": [
    "# E então verificando as informações\n",
    "base.info()"
   ]
  },
  {
   "cell_type": "markdown",
   "id": "7ef0cbea",
   "metadata": {},
   "source": [
    "#  Aprofundando a limpeza e o tratamento para outras abas\n",
    "- Os professores anotam as notas no mesmo arquivo, porém em abas diferentes:\n",
    "    - Notas de português estão na aba `notas_port` e as de matemática na aba `notas_mat`"
   ]
  },
  {
   "cell_type": "markdown",
   "id": "ae432d85",
   "metadata": {},
   "source": [
    "## Calculando a média de português\n",
    "(e fazendo os tratamentos necessários)"
   ]
  },
  {
   "cell_type": "code",
   "execution_count": 25,
   "id": "f07708db",
   "metadata": {},
   "outputs": [],
   "source": [
    "# Importando a base de notas de português\n",
    "port = pd.read_excel('alunos.xlsx', sheet_name = 'notas_port')\n",
    "mat = pd.read_excel('alunos.xlsx', sheet_name = 'notas_mat')"
   ]
  },
  {
   "cell_type": "code",
   "execution_count": 26,
   "id": "3f15af81",
   "metadata": {},
   "outputs": [
    {
     "data": {
      "text/html": [
       "<div>\n",
       "<style scoped>\n",
       "    .dataframe tbody tr th:only-of-type {\n",
       "        vertical-align: middle;\n",
       "    }\n",
       "\n",
       "    .dataframe tbody tr th {\n",
       "        vertical-align: top;\n",
       "    }\n",
       "\n",
       "    .dataframe thead th {\n",
       "        text-align: right;\n",
       "    }\n",
       "</style>\n",
       "<table border=\"1\" class=\"dataframe\">\n",
       "  <thead>\n",
       "    <tr style=\"text-align: right;\">\n",
       "      <th></th>\n",
       "      <th>ID_aluno</th>\n",
       "      <th>Prova</th>\n",
       "      <th>Notas</th>\n",
       "    </tr>\n",
       "  </thead>\n",
       "  <tbody>\n",
       "    <tr>\n",
       "      <th>0</th>\n",
       "      <td>1</td>\n",
       "      <td>1</td>\n",
       "      <td>10</td>\n",
       "    </tr>\n",
       "    <tr>\n",
       "      <th>1</th>\n",
       "      <td>2</td>\n",
       "      <td>1</td>\n",
       "      <td>9</td>\n",
       "    </tr>\n",
       "    <tr>\n",
       "      <th>2</th>\n",
       "      <td>3</td>\n",
       "      <td>1</td>\n",
       "      <td>9</td>\n",
       "    </tr>\n",
       "    <tr>\n",
       "      <th>3</th>\n",
       "      <td>4</td>\n",
       "      <td>1</td>\n",
       "      <td>8</td>\n",
       "    </tr>\n",
       "    <tr>\n",
       "      <th>4</th>\n",
       "      <td>5</td>\n",
       "      <td>1</td>\n",
       "      <td>8</td>\n",
       "    </tr>\n",
       "  </tbody>\n",
       "</table>\n",
       "</div>"
      ],
      "text/plain": [
       "   ID_aluno  Prova  Notas\n",
       "0         1      1     10\n",
       "1         2      1      9\n",
       "2         3      1      9\n",
       "3         4      1      8\n",
       "4         5      1      8"
      ]
     },
     "execution_count": 26,
     "metadata": {},
     "output_type": "execute_result"
    }
   ],
   "source": [
    "# Visualizando a base\n",
    "port.head()"
   ]
  },
  {
   "cell_type": "code",
   "execution_count": 27,
   "id": "5d55253c",
   "metadata": {},
   "outputs": [
    {
     "data": {
      "text/html": [
       "<div>\n",
       "<style scoped>\n",
       "    .dataframe tbody tr th:only-of-type {\n",
       "        vertical-align: middle;\n",
       "    }\n",
       "\n",
       "    .dataframe tbody tr th {\n",
       "        vertical-align: top;\n",
       "    }\n",
       "\n",
       "    .dataframe thead th {\n",
       "        text-align: right;\n",
       "    }\n",
       "</style>\n",
       "<table border=\"1\" class=\"dataframe\">\n",
       "  <thead>\n",
       "    <tr style=\"text-align: right;\">\n",
       "      <th></th>\n",
       "      <th>ID_aluno</th>\n",
       "      <th>Prova</th>\n",
       "      <th>Notas</th>\n",
       "    </tr>\n",
       "  </thead>\n",
       "  <tbody>\n",
       "    <tr>\n",
       "      <th>count</th>\n",
       "      <td>48.000000</td>\n",
       "      <td>48.000000</td>\n",
       "      <td>48.000000</td>\n",
       "    </tr>\n",
       "    <tr>\n",
       "      <th>mean</th>\n",
       "      <td>7.916667</td>\n",
       "      <td>1.979167</td>\n",
       "      <td>8.541667</td>\n",
       "    </tr>\n",
       "    <tr>\n",
       "      <th>std</th>\n",
       "      <td>4.241805</td>\n",
       "      <td>0.837666</td>\n",
       "      <td>9.394336</td>\n",
       "    </tr>\n",
       "    <tr>\n",
       "      <th>min</th>\n",
       "      <td>1.000000</td>\n",
       "      <td>1.000000</td>\n",
       "      <td>2.000000</td>\n",
       "    </tr>\n",
       "    <tr>\n",
       "      <th>25%</th>\n",
       "      <td>4.750000</td>\n",
       "      <td>1.000000</td>\n",
       "      <td>5.000000</td>\n",
       "    </tr>\n",
       "    <tr>\n",
       "      <th>50%</th>\n",
       "      <td>7.500000</td>\n",
       "      <td>2.000000</td>\n",
       "      <td>8.000000</td>\n",
       "    </tr>\n",
       "    <tr>\n",
       "      <th>75%</th>\n",
       "      <td>11.250000</td>\n",
       "      <td>3.000000</td>\n",
       "      <td>9.000000</td>\n",
       "    </tr>\n",
       "    <tr>\n",
       "      <th>max</th>\n",
       "      <td>15.000000</td>\n",
       "      <td>3.000000</td>\n",
       "      <td>70.000000</td>\n",
       "    </tr>\n",
       "  </tbody>\n",
       "</table>\n",
       "</div>"
      ],
      "text/plain": [
       "        ID_aluno      Prova      Notas\n",
       "count  48.000000  48.000000  48.000000\n",
       "mean    7.916667   1.979167   8.541667\n",
       "std     4.241805   0.837666   9.394336\n",
       "min     1.000000   1.000000   2.000000\n",
       "25%     4.750000   1.000000   5.000000\n",
       "50%     7.500000   2.000000   8.000000\n",
       "75%    11.250000   3.000000   9.000000\n",
       "max    15.000000   3.000000  70.000000"
      ]
     },
     "execution_count": 27,
     "metadata": {},
     "output_type": "execute_result"
    }
   ],
   "source": [
    "# Gerando a descrição estatística\n",
    "port.describe()"
   ]
  },
  {
   "cell_type": "code",
   "execution_count": 28,
   "id": "071510f2",
   "metadata": {},
   "outputs": [
    {
     "name": "stdout",
     "output_type": "stream",
     "text": [
      "<class 'pandas.core.frame.DataFrame'>\n",
      "RangeIndex: 48 entries, 0 to 47\n",
      "Data columns (total 3 columns):\n",
      " #   Column    Non-Null Count  Dtype\n",
      "---  ------    --------------  -----\n",
      " 0   ID_aluno  48 non-null     int64\n",
      " 1   Prova     48 non-null     int64\n",
      " 2   Notas     48 non-null     int64\n",
      "dtypes: int64(3)\n",
      "memory usage: 1.2 KB\n"
     ]
    }
   ],
   "source": [
    "# Verificando as informações\n",
    "port.info()"
   ]
  },
  {
   "cell_type": "code",
   "execution_count": 29,
   "id": "0b143d51",
   "metadata": {},
   "outputs": [
    {
     "data": {
      "text/plain": [
       "ID_aluno    15\n",
       "Prova        3\n",
       "Notas       10\n",
       "dtype: int64"
      ]
     },
     "execution_count": 29,
     "metadata": {},
     "output_type": "execute_result"
    }
   ],
   "source": [
    "# Verificando a cardinalidade\n",
    "port.nunique()"
   ]
  },
  {
   "cell_type": "code",
   "execution_count": 30,
   "id": "6aa34693",
   "metadata": {},
   "outputs": [
    {
     "data": {
      "text/plain": [
       "(48, 3)"
      ]
     },
     "execution_count": 30,
     "metadata": {},
     "output_type": "execute_result"
    }
   ],
   "source": [
    "# Verificando o número de alunos que temos na base\n",
    "port.shape"
   ]
  },
  {
   "cell_type": "code",
   "execution_count": 31,
   "id": "a472e1ae",
   "metadata": {},
   "outputs": [
    {
     "data": {
      "text/plain": [
       "ID_aluno  Prova\n",
       "7         1        3\n",
       "6         3        2\n",
       "1         1        1\n",
       "12        1        1\n",
       "9         3        1\n",
       "10        1        1\n",
       "          2        1\n",
       "          3        1\n",
       "11        1        1\n",
       "          2        1\n",
       "          3        1\n",
       "12        2        1\n",
       "9         1        1\n",
       "12        3        1\n",
       "13        1        1\n",
       "          2        1\n",
       "          3        1\n",
       "14        1        1\n",
       "          2        1\n",
       "          3        1\n",
       "15        1        1\n",
       "          2        1\n",
       "9         2        1\n",
       "8         2        1\n",
       "          3        1\n",
       "4         2        1\n",
       "1         3        1\n",
       "2         1        1\n",
       "          2        1\n",
       "          3        1\n",
       "3         1        1\n",
       "          2        1\n",
       "          3        1\n",
       "4         1        1\n",
       "          3        1\n",
       "1         2        1\n",
       "5         1        1\n",
       "          2        1\n",
       "          3        1\n",
       "6         1        1\n",
       "          2        1\n",
       "7         2        1\n",
       "          3        1\n",
       "8         1        1\n",
       "15        3        1\n",
       "dtype: int64"
      ]
     },
     "execution_count": 31,
     "metadata": {},
     "output_type": "execute_result"
    }
   ],
   "source": [
    "# Podemos usar o value_counts considerando essas duas colunas para verificar os valores duplicados\n",
    "port[['ID_aluno','Prova']].value_counts()"
   ]
  },
  {
   "cell_type": "code",
   "execution_count": 32,
   "id": "840f5a8c",
   "metadata": {},
   "outputs": [
    {
     "data": {
      "text/plain": [
       "ID_aluno    7.0\n",
       "Prova       1.6\n",
       "Notas       7.4\n",
       "dtype: float64"
      ]
     },
     "execution_count": 32,
     "metadata": {},
     "output_type": "execute_result"
    }
   ],
   "source": [
    "# Verificando a média da nota do aluno de ID = 7\n",
    "port[port['ID_aluno'] == 7].mean()"
   ]
  },
  {
   "cell_type": "code",
   "execution_count": 33,
   "id": "72316d7e",
   "metadata": {},
   "outputs": [],
   "source": [
    "# Utilizando o drop_duplicates\n",
    "port = port.drop_duplicates(['ID_aluno', 'Prova', 'Notas'])"
   ]
  },
  {
   "cell_type": "code",
   "execution_count": 34,
   "id": "f9da5cbf",
   "metadata": {},
   "outputs": [
    {
     "data": {
      "text/plain": [
       "ID_aluno    7.000000\n",
       "Prova       2.000000\n",
       "Notas       5.666667\n",
       "dtype: float64"
      ]
     },
     "execution_count": 34,
     "metadata": {},
     "output_type": "execute_result"
    }
   ],
   "source": [
    "# Verificando novamente a média da nota desse aluno\n",
    "port[port['ID_aluno'] == 7].mean()"
   ]
  },
  {
   "cell_type": "code",
   "execution_count": 35,
   "id": "98c93ecd",
   "metadata": {},
   "outputs": [
    {
     "data": {
      "image/png": "[encoded data removed]",
      "text/plain": [
       "<Figure size 640x480 with 1 Axes>"
      ]
     },
     "metadata": {},
     "output_type": "display_data"
    }
   ],
   "source": [
    "# Verificando o outlier da coluna nota\n",
    "plt.boxplot(port['Notas']);"
   ]
  },
  {
   "cell_type": "code",
   "execution_count": 36,
   "id": "93a1477e",
   "metadata": {},
   "outputs": [],
   "source": [
    "# Tratando esse valor (Considerando que 70 será 7)\n",
    "port.loc[port['Notas'] == 70, 'Notas'] = 7"
   ]
  },
  {
   "cell_type": "code",
   "execution_count": 37,
   "id": "5b9f22c9",
   "metadata": {},
   "outputs": [
    {
     "data": {
      "text/html": [
       "<div>\n",
       "<style scoped>\n",
       "    .dataframe tbody tr th:only-of-type {\n",
       "        vertical-align: middle;\n",
       "    }\n",
       "\n",
       "    .dataframe tbody tr th {\n",
       "        vertical-align: top;\n",
       "    }\n",
       "\n",
       "    .dataframe thead th {\n",
       "        text-align: right;\n",
       "    }\n",
       "</style>\n",
       "<table border=\"1\" class=\"dataframe\">\n",
       "  <thead>\n",
       "    <tr style=\"text-align: right;\">\n",
       "      <th></th>\n",
       "      <th>ID_aluno</th>\n",
       "      <th>Prova</th>\n",
       "      <th>Notas</th>\n",
       "    </tr>\n",
       "  </thead>\n",
       "  <tbody>\n",
       "    <tr>\n",
       "      <th>count</th>\n",
       "      <td>45.000000</td>\n",
       "      <td>45.000000</td>\n",
       "      <td>45.000000</td>\n",
       "    </tr>\n",
       "    <tr>\n",
       "      <th>mean</th>\n",
       "      <td>8.000000</td>\n",
       "      <td>2.000000</td>\n",
       "      <td>7.222222</td>\n",
       "    </tr>\n",
       "    <tr>\n",
       "      <th>std</th>\n",
       "      <td>4.369314</td>\n",
       "      <td>0.825723</td>\n",
       "      <td>2.373039</td>\n",
       "    </tr>\n",
       "    <tr>\n",
       "      <th>min</th>\n",
       "      <td>1.000000</td>\n",
       "      <td>1.000000</td>\n",
       "      <td>2.000000</td>\n",
       "    </tr>\n",
       "    <tr>\n",
       "      <th>25%</th>\n",
       "      <td>4.000000</td>\n",
       "      <td>1.000000</td>\n",
       "      <td>5.000000</td>\n",
       "    </tr>\n",
       "    <tr>\n",
       "      <th>50%</th>\n",
       "      <td>8.000000</td>\n",
       "      <td>2.000000</td>\n",
       "      <td>8.000000</td>\n",
       "    </tr>\n",
       "    <tr>\n",
       "      <th>75%</th>\n",
       "      <td>12.000000</td>\n",
       "      <td>3.000000</td>\n",
       "      <td>9.000000</td>\n",
       "    </tr>\n",
       "    <tr>\n",
       "      <th>max</th>\n",
       "      <td>15.000000</td>\n",
       "      <td>3.000000</td>\n",
       "      <td>10.000000</td>\n",
       "    </tr>\n",
       "  </tbody>\n",
       "</table>\n",
       "</div>"
      ],
      "text/plain": [
       "        ID_aluno      Prova      Notas\n",
       "count  45.000000  45.000000  45.000000\n",
       "mean    8.000000   2.000000   7.222222\n",
       "std     4.369314   0.825723   2.373039\n",
       "min     1.000000   1.000000   2.000000\n",
       "25%     4.000000   1.000000   5.000000\n",
       "50%     8.000000   2.000000   8.000000\n",
       "75%    12.000000   3.000000   9.000000\n",
       "max    15.000000   3.000000  10.000000"
      ]
     },
     "execution_count": 37,
     "metadata": {},
     "output_type": "execute_result"
    }
   ],
   "source": [
    "# Verificando novamente o describe\n",
    "port.describe()"
   ]
  },
  {
   "cell_type": "code",
   "execution_count": 38,
   "id": "0b78f08c",
   "metadata": {},
   "outputs": [],
   "source": [
    "# Fazendo a média por aluno\n",
    "media_port = port.groupby('ID_aluno')['Notas'].mean()"
   ]
  },
  {
   "cell_type": "markdown",
   "id": "7835d7dc",
   "metadata": {},
   "source": [
    "## Calculando a média de matemática"
   ]
  },
  {
   "cell_type": "code",
   "execution_count": 39,
   "id": "adcea383",
   "metadata": {},
   "outputs": [
    {
     "data": {
      "text/html": [
       "<div>\n",
       "<style scoped>\n",
       "    .dataframe tbody tr th:only-of-type {\n",
       "        vertical-align: middle;\n",
       "    }\n",
       "\n",
       "    .dataframe tbody tr th {\n",
       "        vertical-align: top;\n",
       "    }\n",
       "\n",
       "    .dataframe thead th {\n",
       "        text-align: right;\n",
       "    }\n",
       "</style>\n",
       "<table border=\"1\" class=\"dataframe\">\n",
       "  <thead>\n",
       "    <tr style=\"text-align: right;\">\n",
       "      <th></th>\n",
       "      <th>ID_aluno</th>\n",
       "      <th>Prova</th>\n",
       "      <th>Notas</th>\n",
       "    </tr>\n",
       "  </thead>\n",
       "  <tbody>\n",
       "    <tr>\n",
       "      <th>0</th>\n",
       "      <td>1</td>\n",
       "      <td>1</td>\n",
       "      <td>B-</td>\n",
       "    </tr>\n",
       "    <tr>\n",
       "      <th>1</th>\n",
       "      <td>2</td>\n",
       "      <td>1</td>\n",
       "      <td>A</td>\n",
       "    </tr>\n",
       "    <tr>\n",
       "      <th>2</th>\n",
       "      <td>3</td>\n",
       "      <td>1</td>\n",
       "      <td>B</td>\n",
       "    </tr>\n",
       "    <tr>\n",
       "      <th>3</th>\n",
       "      <td>4</td>\n",
       "      <td>1</td>\n",
       "      <td>A</td>\n",
       "    </tr>\n",
       "    <tr>\n",
       "      <th>4</th>\n",
       "      <td>5</td>\n",
       "      <td>1</td>\n",
       "      <td>C+</td>\n",
       "    </tr>\n",
       "  </tbody>\n",
       "</table>\n",
       "</div>"
      ],
      "text/plain": [
       "   ID_aluno  Prova Notas\n",
       "0         1      1    B-\n",
       "1         2      1     A\n",
       "2         3      1     B\n",
       "3         4      1     A\n",
       "4         5      1    C+"
      ]
     },
     "execution_count": 39,
     "metadata": {},
     "output_type": "execute_result"
    }
   ],
   "source": [
    "# head\n",
    "mat.head()"
   ]
  },
  {
   "cell_type": "code",
   "execution_count": 40,
   "id": "07075f22",
   "metadata": {},
   "outputs": [
    {
     "data": {
      "text/html": [
       "<div>\n",
       "<style scoped>\n",
       "    .dataframe tbody tr th:only-of-type {\n",
       "        vertical-align: middle;\n",
       "    }\n",
       "\n",
       "    .dataframe tbody tr th {\n",
       "        vertical-align: top;\n",
       "    }\n",
       "\n",
       "    .dataframe thead th {\n",
       "        text-align: right;\n",
       "    }\n",
       "</style>\n",
       "<table border=\"1\" class=\"dataframe\">\n",
       "  <thead>\n",
       "    <tr style=\"text-align: right;\">\n",
       "      <th></th>\n",
       "      <th>ID_aluno</th>\n",
       "      <th>Prova</th>\n",
       "    </tr>\n",
       "  </thead>\n",
       "  <tbody>\n",
       "    <tr>\n",
       "      <th>count</th>\n",
       "      <td>45.000000</td>\n",
       "      <td>45.000000</td>\n",
       "    </tr>\n",
       "    <tr>\n",
       "      <th>mean</th>\n",
       "      <td>8.000000</td>\n",
       "      <td>2.000000</td>\n",
       "    </tr>\n",
       "    <tr>\n",
       "      <th>std</th>\n",
       "      <td>4.369314</td>\n",
       "      <td>0.825723</td>\n",
       "    </tr>\n",
       "    <tr>\n",
       "      <th>min</th>\n",
       "      <td>1.000000</td>\n",
       "      <td>1.000000</td>\n",
       "    </tr>\n",
       "    <tr>\n",
       "      <th>25%</th>\n",
       "      <td>4.000000</td>\n",
       "      <td>1.000000</td>\n",
       "    </tr>\n",
       "    <tr>\n",
       "      <th>50%</th>\n",
       "      <td>8.000000</td>\n",
       "      <td>2.000000</td>\n",
       "    </tr>\n",
       "    <tr>\n",
       "      <th>75%</th>\n",
       "      <td>12.000000</td>\n",
       "      <td>3.000000</td>\n",
       "    </tr>\n",
       "    <tr>\n",
       "      <th>max</th>\n",
       "      <td>15.000000</td>\n",
       "      <td>3.000000</td>\n",
       "    </tr>\n",
       "  </tbody>\n",
       "</table>\n",
       "</div>"
      ],
      "text/plain": [
       "        ID_aluno      Prova\n",
       "count  45.000000  45.000000\n",
       "mean    8.000000   2.000000\n",
       "std     4.369314   0.825723\n",
       "min     1.000000   1.000000\n",
       "25%     4.000000   1.000000\n",
       "50%     8.000000   2.000000\n",
       "75%    12.000000   3.000000\n",
       "max    15.000000   3.000000"
      ]
     },
     "execution_count": 40,
     "metadata": {},
     "output_type": "execute_result"
    }
   ],
   "source": [
    "# describe\n",
    "mat.describe()"
   ]
  },
  {
   "cell_type": "code",
   "execution_count": 41,
   "id": "d616ed8b",
   "metadata": {},
   "outputs": [
    {
     "name": "stdout",
     "output_type": "stream",
     "text": [
      "<class 'pandas.core.frame.DataFrame'>\n",
      "RangeIndex: 45 entries, 0 to 44\n",
      "Data columns (total 3 columns):\n",
      " #   Column    Non-Null Count  Dtype \n",
      "---  ------    --------------  ----- \n",
      " 0   ID_aluno  45 non-null     int64 \n",
      " 1   Prova     45 non-null     int64 \n",
      " 2   Notas     45 non-null     object\n",
      "dtypes: int64(2), object(1)\n",
      "memory usage: 1.2+ KB\n"
     ]
    }
   ],
   "source": [
    "# info\n",
    "mat.info()"
   ]
  },
  {
   "cell_type": "code",
   "execution_count": null,
   "id": "c9945e2a",
   "metadata": {},
   "outputs": [],
   "source": [
    "# nunique\n",
    "mat.nunique()"
   ]
  },
  {
   "cell_type": "code",
   "execution_count": null,
   "id": "4ddf5f5a",
   "metadata": {},
   "outputs": [],
   "source": [
    "# Visualizando a coluna de notas\n",
    "mat['Notas'].value_counts()"
   ]
  },
  {
   "cell_type": "markdown",
   "id": "3d30ebbb",
   "metadata": {},
   "source": [
    "**Precisamos transformar para números para conseguir calcular uma média que seja possível de somar com a média de português**\n",
    "- Vamos supor que A+ equivale a 10, A equivale a 9, e assim por diante, até C- equivaler a 1 e D a 0\n"
   ]
  },
  {
   "cell_type": "code",
   "execution_count": 42,
   "id": "e8eafb02",
   "metadata": {},
   "outputs": [],
   "source": [
    "# Criando uma função para trocar texto pela nota\n",
    "\n",
    "def ajuste_notas(nota):\n",
    "    if nota == 'A+':\n",
    "        return 10\n",
    "    elif nota == 'A':\n",
    "        return 9\n",
    "    elif nota == 'A-':\n",
    "        return 8\n",
    "    elif nota == 'B+':\n",
    "        return 7\n",
    "    elif nota == 'B':\n",
    "        return 6\n",
    "    elif nota == 'B-':\n",
    "        return 5\n",
    "    elif nota == 'C+':\n",
    "        return 4\n",
    "    elif nota == 'C':\n",
    "        return 3\n",
    "    elif nota == 'C-':\n",
    "        return 2\n",
    "    elif nota == 'D':\n",
    "        return 1\n",
    "    else:\n",
    "        return nota"
   ]
  },
  {
   "cell_type": "code",
   "execution_count": 44,
   "id": "e8f24987",
   "metadata": {},
   "outputs": [],
   "source": [
    "# Aplicando essa função\n",
    "mat['NotasAjust'] = mat['Notas'].apply(ajuste_notas)"
   ]
  },
  {
   "cell_type": "code",
   "execution_count": 45,
   "id": "9264ee97",
   "metadata": {},
   "outputs": [
    {
     "data": {
      "text/html": [
       "<div>\n",
       "<style scoped>\n",
       "    .dataframe tbody tr th:only-of-type {\n",
       "        vertical-align: middle;\n",
       "    }\n",
       "\n",
       "    .dataframe tbody tr th {\n",
       "        vertical-align: top;\n",
       "    }\n",
       "\n",
       "    .dataframe thead th {\n",
       "        text-align: right;\n",
       "    }\n",
       "</style>\n",
       "<table border=\"1\" class=\"dataframe\">\n",
       "  <thead>\n",
       "    <tr style=\"text-align: right;\">\n",
       "      <th></th>\n",
       "      <th>ID_aluno</th>\n",
       "      <th>Prova</th>\n",
       "      <th>Notas</th>\n",
       "      <th>NotasAjust</th>\n",
       "    </tr>\n",
       "  </thead>\n",
       "  <tbody>\n",
       "    <tr>\n",
       "      <th>0</th>\n",
       "      <td>1</td>\n",
       "      <td>1</td>\n",
       "      <td>B-</td>\n",
       "      <td>5</td>\n",
       "    </tr>\n",
       "    <tr>\n",
       "      <th>1</th>\n",
       "      <td>2</td>\n",
       "      <td>1</td>\n",
       "      <td>A</td>\n",
       "      <td>9</td>\n",
       "    </tr>\n",
       "    <tr>\n",
       "      <th>2</th>\n",
       "      <td>3</td>\n",
       "      <td>1</td>\n",
       "      <td>B</td>\n",
       "      <td>6</td>\n",
       "    </tr>\n",
       "    <tr>\n",
       "      <th>3</th>\n",
       "      <td>4</td>\n",
       "      <td>1</td>\n",
       "      <td>A</td>\n",
       "      <td>9</td>\n",
       "    </tr>\n",
       "    <tr>\n",
       "      <th>4</th>\n",
       "      <td>5</td>\n",
       "      <td>1</td>\n",
       "      <td>C+</td>\n",
       "      <td>4</td>\n",
       "    </tr>\n",
       "  </tbody>\n",
       "</table>\n",
       "</div>"
      ],
      "text/plain": [
       "   ID_aluno  Prova Notas  NotasAjust\n",
       "0         1      1    B-           5\n",
       "1         2      1     A           9\n",
       "2         3      1     B           6\n",
       "3         4      1     A           9\n",
       "4         5      1    C+           4"
      ]
     },
     "execution_count": 45,
     "metadata": {},
     "output_type": "execute_result"
    }
   ],
   "source": [
    "# Visualizando a base\n",
    "mat.head()"
   ]
  },
  {
   "cell_type": "markdown",
   "id": "b7a5b8ef",
   "metadata": {},
   "source": [
    "**Realizando de outra forma**"
   ]
  },
  {
   "cell_type": "code",
   "execution_count": 46,
   "id": "cdef524a",
   "metadata": {},
   "outputs": [],
   "source": [
    "# Selecionando a primeira nota\n",
    "lista_notas = ['A+', 'A', 'A-','B+','B','B-','C+','C','C-','D']\n",
    "lista_valor = [10,9,8,7,6,5,4,3,2,1]\n",
    "\n",
    "def verifica_nota(nota):\n",
    "    return lista_valor[lista_notas.index(nota)]"
   ]
  },
  {
   "cell_type": "code",
   "execution_count": 47,
   "id": "d97f8241",
   "metadata": {},
   "outputs": [],
   "source": [
    "# Verificando o comprimento dessa nota\n",
    "mat['NotaAjust2'] = mat['Notas'].apply(verifica_nota)"
   ]
  },
  {
   "cell_type": "code",
   "execution_count": 48,
   "id": "c02111fb",
   "metadata": {},
   "outputs": [
    {
     "data": {
      "text/html": [
       "<div>\n",
       "<style scoped>\n",
       "    .dataframe tbody tr th:only-of-type {\n",
       "        vertical-align: middle;\n",
       "    }\n",
       "\n",
       "    .dataframe tbody tr th {\n",
       "        vertical-align: top;\n",
       "    }\n",
       "\n",
       "    .dataframe thead th {\n",
       "        text-align: right;\n",
       "    }\n",
       "</style>\n",
       "<table border=\"1\" class=\"dataframe\">\n",
       "  <thead>\n",
       "    <tr style=\"text-align: right;\">\n",
       "      <th></th>\n",
       "      <th>ID_aluno</th>\n",
       "      <th>Prova</th>\n",
       "      <th>Notas</th>\n",
       "      <th>NotasAjust</th>\n",
       "      <th>NotaAjust2</th>\n",
       "    </tr>\n",
       "  </thead>\n",
       "  <tbody>\n",
       "    <tr>\n",
       "      <th>0</th>\n",
       "      <td>1</td>\n",
       "      <td>1</td>\n",
       "      <td>B-</td>\n",
       "      <td>5</td>\n",
       "      <td>5</td>\n",
       "    </tr>\n",
       "    <tr>\n",
       "      <th>1</th>\n",
       "      <td>2</td>\n",
       "      <td>1</td>\n",
       "      <td>A</td>\n",
       "      <td>9</td>\n",
       "      <td>9</td>\n",
       "    </tr>\n",
       "    <tr>\n",
       "      <th>2</th>\n",
       "      <td>3</td>\n",
       "      <td>1</td>\n",
       "      <td>B</td>\n",
       "      <td>6</td>\n",
       "      <td>6</td>\n",
       "    </tr>\n",
       "    <tr>\n",
       "      <th>3</th>\n",
       "      <td>4</td>\n",
       "      <td>1</td>\n",
       "      <td>A</td>\n",
       "      <td>9</td>\n",
       "      <td>9</td>\n",
       "    </tr>\n",
       "    <tr>\n",
       "      <th>4</th>\n",
       "      <td>5</td>\n",
       "      <td>1</td>\n",
       "      <td>C+</td>\n",
       "      <td>4</td>\n",
       "      <td>4</td>\n",
       "    </tr>\n",
       "  </tbody>\n",
       "</table>\n",
       "</div>"
      ],
      "text/plain": [
       "   ID_aluno  Prova Notas  NotasAjust  NotaAjust2\n",
       "0         1      1    B-           5           5\n",
       "1         2      1     A           9           9\n",
       "2         3      1     B           6           6\n",
       "3         4      1     A           9           9\n",
       "4         5      1    C+           4           4"
      ]
     },
     "execution_count": 48,
     "metadata": {},
     "output_type": "execute_result"
    }
   ],
   "source": [
    "# Visualizando a base\n",
    "mat.head()"
   ]
  },
  {
   "cell_type": "code",
   "execution_count": 49,
   "id": "7c6ad26d",
   "metadata": {},
   "outputs": [],
   "source": [
    "# Substituindo a coluna Notas por qualquer uma dessas colunas\n",
    "mat['Notas'] = mat['NotasAjust']"
   ]
  },
  {
   "cell_type": "code",
   "execution_count": 50,
   "id": "1bfc5f50",
   "metadata": {},
   "outputs": [],
   "source": [
    "# Eliminando as colunas nota 1 e nota 2\n",
    "mat = mat.drop(['NotasAjust','NotaAjust2'], axis=1)"
   ]
  },
  {
   "cell_type": "code",
   "execution_count": 51,
   "id": "c4efba1c",
   "metadata": {},
   "outputs": [],
   "source": [
    "# Calculando a média de matemática\n",
    "media_mat = mat.groupby('ID_aluno')['Notas'].mean()"
   ]
  },
  {
   "cell_type": "markdown",
   "id": "c3b9ff14",
   "metadata": {},
   "source": [
    "### Unindo as duas médias port e mat"
   ]
  },
  {
   "cell_type": "code",
   "execution_count": 52,
   "id": "1e99ea16",
   "metadata": {},
   "outputs": [
    {
     "data": {
      "text/plain": [
       "ID_aluno\n",
       "1    9.000000\n",
       "2    8.000000\n",
       "3    8.666667\n",
       "4    8.000000\n",
       "5    5.666667\n",
       "Name: Notas, dtype: float64"
      ]
     },
     "execution_count": 52,
     "metadata": {},
     "output_type": "execute_result"
    }
   ],
   "source": [
    "# Sendo a média de português\n",
    "media_port.head()"
   ]
  },
  {
   "cell_type": "code",
   "execution_count": 53,
   "id": "978ea273",
   "metadata": {},
   "outputs": [
    {
     "data": {
      "text/plain": [
       "ID_aluno\n",
       "1    6.333333\n",
       "2    7.333333\n",
       "3    6.666667\n",
       "4    7.666667\n",
       "5    6.333333\n",
       "Name: Notas, dtype: float64"
      ]
     },
     "execution_count": 53,
     "metadata": {},
     "output_type": "execute_result"
    }
   ],
   "source": [
    "# E a média de matemática\n",
    "media_mat.head()"
   ]
  },
  {
   "cell_type": "code",
   "execution_count": 54,
   "id": "00e57e81",
   "metadata": {},
   "outputs": [],
   "source": [
    "# Unindo as bases\n",
    "media_final = pd.concat([media_port,media_mat], axis=1).reset_index()"
   ]
  },
  {
   "cell_type": "code",
   "execution_count": 55,
   "id": "349e6169",
   "metadata": {},
   "outputs": [
    {
     "data": {
      "text/html": [
       "<div>\n",
       "<style scoped>\n",
       "    .dataframe tbody tr th:only-of-type {\n",
       "        vertical-align: middle;\n",
       "    }\n",
       "\n",
       "    .dataframe tbody tr th {\n",
       "        vertical-align: top;\n",
       "    }\n",
       "\n",
       "    .dataframe thead th {\n",
       "        text-align: right;\n",
       "    }\n",
       "</style>\n",
       "<table border=\"1\" class=\"dataframe\">\n",
       "  <thead>\n",
       "    <tr style=\"text-align: right;\">\n",
       "      <th></th>\n",
       "      <th>ID_aluno</th>\n",
       "      <th>media_port</th>\n",
       "      <th>media_mat</th>\n",
       "    </tr>\n",
       "  </thead>\n",
       "  <tbody>\n",
       "    <tr>\n",
       "      <th>0</th>\n",
       "      <td>1</td>\n",
       "      <td>9.000000</td>\n",
       "      <td>6.333333</td>\n",
       "    </tr>\n",
       "    <tr>\n",
       "      <th>1</th>\n",
       "      <td>2</td>\n",
       "      <td>8.000000</td>\n",
       "      <td>7.333333</td>\n",
       "    </tr>\n",
       "    <tr>\n",
       "      <th>2</th>\n",
       "      <td>3</td>\n",
       "      <td>8.666667</td>\n",
       "      <td>6.666667</td>\n",
       "    </tr>\n",
       "    <tr>\n",
       "      <th>3</th>\n",
       "      <td>4</td>\n",
       "      <td>8.000000</td>\n",
       "      <td>7.666667</td>\n",
       "    </tr>\n",
       "    <tr>\n",
       "      <th>4</th>\n",
       "      <td>5</td>\n",
       "      <td>5.666667</td>\n",
       "      <td>6.333333</td>\n",
       "    </tr>\n",
       "    <tr>\n",
       "      <th>5</th>\n",
       "      <td>6</td>\n",
       "      <td>7.333333</td>\n",
       "      <td>7.333333</td>\n",
       "    </tr>\n",
       "    <tr>\n",
       "      <th>6</th>\n",
       "      <td>7</td>\n",
       "      <td>5.666667</td>\n",
       "      <td>6.333333</td>\n",
       "    </tr>\n",
       "    <tr>\n",
       "      <th>7</th>\n",
       "      <td>8</td>\n",
       "      <td>7.666667</td>\n",
       "      <td>9.666667</td>\n",
       "    </tr>\n",
       "    <tr>\n",
       "      <th>8</th>\n",
       "      <td>9</td>\n",
       "      <td>8.000000</td>\n",
       "      <td>6.333333</td>\n",
       "    </tr>\n",
       "    <tr>\n",
       "      <th>9</th>\n",
       "      <td>10</td>\n",
       "      <td>6.666667</td>\n",
       "      <td>8.333333</td>\n",
       "    </tr>\n",
       "    <tr>\n",
       "      <th>10</th>\n",
       "      <td>11</td>\n",
       "      <td>8.666667</td>\n",
       "      <td>5.000000</td>\n",
       "    </tr>\n",
       "    <tr>\n",
       "      <th>11</th>\n",
       "      <td>12</td>\n",
       "      <td>6.000000</td>\n",
       "      <td>8.000000</td>\n",
       "    </tr>\n",
       "    <tr>\n",
       "      <th>12</th>\n",
       "      <td>13</td>\n",
       "      <td>4.333333</td>\n",
       "      <td>6.333333</td>\n",
       "    </tr>\n",
       "    <tr>\n",
       "      <th>13</th>\n",
       "      <td>14</td>\n",
       "      <td>6.666667</td>\n",
       "      <td>7.333333</td>\n",
       "    </tr>\n",
       "    <tr>\n",
       "      <th>14</th>\n",
       "      <td>15</td>\n",
       "      <td>8.000000</td>\n",
       "      <td>9.333333</td>\n",
       "    </tr>\n",
       "  </tbody>\n",
       "</table>\n",
       "</div>"
      ],
      "text/plain": [
       "    ID_aluno  media_port  media_mat\n",
       "0          1    9.000000   6.333333\n",
       "1          2    8.000000   7.333333\n",
       "2          3    8.666667   6.666667\n",
       "3          4    8.000000   7.666667\n",
       "4          5    5.666667   6.333333\n",
       "5          6    7.333333   7.333333\n",
       "6          7    5.666667   6.333333\n",
       "7          8    7.666667   9.666667\n",
       "8          9    8.000000   6.333333\n",
       "9         10    6.666667   8.333333\n",
       "10        11    8.666667   5.000000\n",
       "11        12    6.000000   8.000000\n",
       "12        13    4.333333   6.333333\n",
       "13        14    6.666667   7.333333\n",
       "14        15    8.000000   9.333333"
      ]
     },
     "execution_count": 55,
     "metadata": {},
     "output_type": "execute_result"
    }
   ],
   "source": [
    "# Ajustando as colunas\n",
    "media_final.columns = ['ID_aluno', 'media_port', 'media_mat']\n",
    "media_final"
   ]
  },
  {
   "cell_type": "code",
   "execution_count": 56,
   "id": "1a6b7793",
   "metadata": {},
   "outputs": [],
   "source": [
    "# Calculando a média final\n",
    "media_final['media_final'] = (media_final['media_port'] + media_final['media_mat']) / 2"
   ]
  },
  {
   "cell_type": "code",
   "execution_count": null,
   "id": "fd5f42f0",
   "metadata": {},
   "outputs": [],
   "source": [
    "# Verificando a base\n",
    "media_final"
   ]
  },
  {
   "cell_type": "markdown",
   "id": "efe4caae",
   "metadata": {},
   "source": [
    "# Limpeza e Tratamento de Dados (Texto)\n",
    "- No mesmo arquivo, temos a aba `cadastro` com as informações de cadastro de cada aluno\n",
    "- O TokenAluno é um código interno composto por:\n",
    "    - Gênero do aluno (M = masculino e F = feminino)\n",
    "    - 1 ou 0 para aluno mensalista (1 = mensalista e 0 = bolsista)\n",
    "    - Atividade do aluno (A = ativo e I = inativo)\n",
    "    - Aluno reprovado (R = reprovado em anos anteriores)\n",
    "- Em atividades, é possível verificar se esse aluno realiza atividades esportivas, culturais ou ambas"
   ]
  },
  {
   "cell_type": "code",
   "execution_count": 57,
   "id": "dade180d",
   "metadata": {},
   "outputs": [],
   "source": [
    "# Importando a base de cadastro\n",
    "cdt = pd.read_excel('alunos.xlsx', sheet_name = 'cadastro')"
   ]
  },
  {
   "cell_type": "code",
   "execution_count": 58,
   "id": "2b022e0c",
   "metadata": {},
   "outputs": [
    {
     "data": {
      "text/html": [
       "<div>\n",
       "<style scoped>\n",
       "    .dataframe tbody tr th:only-of-type {\n",
       "        vertical-align: middle;\n",
       "    }\n",
       "\n",
       "    .dataframe tbody tr th {\n",
       "        vertical-align: top;\n",
       "    }\n",
       "\n",
       "    .dataframe thead th {\n",
       "        text-align: right;\n",
       "    }\n",
       "</style>\n",
       "<table border=\"1\" class=\"dataframe\">\n",
       "  <thead>\n",
       "    <tr style=\"text-align: right;\">\n",
       "      <th></th>\n",
       "      <th>ID_aluno</th>\n",
       "      <th>email</th>\n",
       "      <th>Aniversario</th>\n",
       "      <th>TokenAluno</th>\n",
       "      <th>Atividades</th>\n",
       "    </tr>\n",
       "  </thead>\n",
       "  <tbody>\n",
       "    <tr>\n",
       "      <th>0</th>\n",
       "      <td>1</td>\n",
       "      <td>gustavo@gmail.com</td>\n",
       "      <td>21.11.2005</td>\n",
       "      <td>M1A</td>\n",
       "      <td>Esporte</td>\n",
       "    </tr>\n",
       "    <tr>\n",
       "      <th>1</th>\n",
       "      <td>2</td>\n",
       "      <td>miguel@gmail.com</td>\n",
       "      <td>20.06.2005</td>\n",
       "      <td>M1I</td>\n",
       "      <td>NaN</td>\n",
       "    </tr>\n",
       "    <tr>\n",
       "      <th>2</th>\n",
       "      <td>3</td>\n",
       "      <td>fernanda@gmail.com</td>\n",
       "      <td>26.11.2005</td>\n",
       "      <td>F1A</td>\n",
       "      <td>Cultural</td>\n",
       "    </tr>\n",
       "    <tr>\n",
       "      <th>3</th>\n",
       "      <td>5</td>\n",
       "      <td>lucas@gmail.com</td>\n",
       "      <td>26.08.2006</td>\n",
       "      <td>M1AR</td>\n",
       "      <td>Esporte</td>\n",
       "    </tr>\n",
       "    <tr>\n",
       "      <th>4</th>\n",
       "      <td>4</td>\n",
       "      <td>vitor@gmail.com</td>\n",
       "      <td>02.12.2006</td>\n",
       "      <td>M1A</td>\n",
       "      <td>Esporte / Cultural</td>\n",
       "    </tr>\n",
       "  </tbody>\n",
       "</table>\n",
       "</div>"
      ],
      "text/plain": [
       "   ID_aluno                email Aniversario TokenAluno          Atividades\n",
       "0         1   gustavo@gmail.com   21.11.2005        M1A             Esporte\n",
       "1         2     miguel@gmail.com  20.06.2005        M1I                 NaN\n",
       "2         3   fernanda@gmail.com  26.11.2005        F1A            Cultural\n",
       "3         5      lucas@gmail.com  26.08.2006       M1AR             Esporte\n",
       "4         4      vitor@gmail.com  02.12.2006        M1A  Esporte / Cultural"
      ]
     },
     "execution_count": 58,
     "metadata": {},
     "output_type": "execute_result"
    }
   ],
   "source": [
    "# Visualizando\n",
    "cdt.head()"
   ]
  },
  {
   "cell_type": "code",
   "execution_count": 59,
   "id": "4a3804db",
   "metadata": {},
   "outputs": [
    {
     "data": {
      "text/html": [
       "<div>\n",
       "<style scoped>\n",
       "    .dataframe tbody tr th:only-of-type {\n",
       "        vertical-align: middle;\n",
       "    }\n",
       "\n",
       "    .dataframe tbody tr th {\n",
       "        vertical-align: top;\n",
       "    }\n",
       "\n",
       "    .dataframe thead th {\n",
       "        text-align: right;\n",
       "    }\n",
       "</style>\n",
       "<table border=\"1\" class=\"dataframe\">\n",
       "  <thead>\n",
       "    <tr style=\"text-align: right;\">\n",
       "      <th></th>\n",
       "      <th>ID_aluno</th>\n",
       "      <th>email</th>\n",
       "      <th>Aniversario</th>\n",
       "      <th>TokenAluno</th>\n",
       "      <th>Atividades</th>\n",
       "    </tr>\n",
       "  </thead>\n",
       "  <tbody>\n",
       "    <tr>\n",
       "      <th>13</th>\n",
       "      <td>14</td>\n",
       "      <td>roberta%gmail.com</td>\n",
       "      <td>09.05.2006</td>\n",
       "      <td>F1A</td>\n",
       "      <td>Esporte / Cultural</td>\n",
       "    </tr>\n",
       "  </tbody>\n",
       "</table>\n",
       "</div>"
      ],
      "text/plain": [
       "    ID_aluno              email Aniversario TokenAluno          Atividades\n",
       "13        14  roberta%gmail.com  09.05.2006        F1A  Esporte / Cultural"
      ]
     },
     "execution_count": 59,
     "metadata": {},
     "output_type": "execute_result"
    }
   ],
   "source": [
    "# Filtrando se algum e-mail não tem @\n",
    "cdt[~cdt['email'].str.contains('@')]"
   ]
  },
  {
   "cell_type": "code",
   "execution_count": 60,
   "id": "fb2e8d57",
   "metadata": {},
   "outputs": [],
   "source": [
    "# Ajustando esse e-mail\n",
    "cdt.loc[cdt['ID_aluno'] == 14, 'email'] = 'roberta@gmail.com'"
   ]
  },
  {
   "cell_type": "code",
   "execution_count": 61,
   "id": "f6c50d6a",
   "metadata": {},
   "outputs": [],
   "source": [
    "# Colocando todos os valores para lowercase\n",
    "cdt['email'] = cdt['email'].str.lower()"
   ]
  },
  {
   "cell_type": "code",
   "execution_count": 62,
   "id": "b64fe9c3",
   "metadata": {},
   "outputs": [
    {
     "data": {
      "text/html": [
       "<div>\n",
       "<style scoped>\n",
       "    .dataframe tbody tr th:only-of-type {\n",
       "        vertical-align: middle;\n",
       "    }\n",
       "\n",
       "    .dataframe tbody tr th {\n",
       "        vertical-align: top;\n",
       "    }\n",
       "\n",
       "    .dataframe thead th {\n",
       "        text-align: right;\n",
       "    }\n",
       "</style>\n",
       "<table border=\"1\" class=\"dataframe\">\n",
       "  <thead>\n",
       "    <tr style=\"text-align: right;\">\n",
       "      <th></th>\n",
       "      <th>ID_aluno</th>\n",
       "      <th>email</th>\n",
       "      <th>Aniversario</th>\n",
       "      <th>TokenAluno</th>\n",
       "      <th>Atividades</th>\n",
       "    </tr>\n",
       "  </thead>\n",
       "  <tbody>\n",
       "    <tr>\n",
       "      <th>0</th>\n",
       "      <td>1</td>\n",
       "      <td>gustavo@gmail.com</td>\n",
       "      <td>21.11.2005</td>\n",
       "      <td>M1A</td>\n",
       "      <td>Esporte</td>\n",
       "    </tr>\n",
       "    <tr>\n",
       "      <th>6</th>\n",
       "      <td>7</td>\n",
       "      <td>pedro @gmail.com</td>\n",
       "      <td>09.09.2006</td>\n",
       "      <td>M1A</td>\n",
       "      <td>Esporte</td>\n",
       "    </tr>\n",
       "  </tbody>\n",
       "</table>\n",
       "</div>"
      ],
      "text/plain": [
       "   ID_aluno                email Aniversario TokenAluno Atividades\n",
       "0         1   gustavo@gmail.com   21.11.2005        M1A    Esporte\n",
       "6         7     pedro @gmail.com  09.09.2006        M1A    Esporte"
      ]
     },
     "execution_count": 62,
     "metadata": {},
     "output_type": "execute_result"
    }
   ],
   "source": [
    "# Verificando a existência de espaços no e-mail\n",
    "cdt[cdt['email'].str.contains(' ')]"
   ]
  },
  {
   "cell_type": "code",
   "execution_count": 63,
   "id": "52b16a4c",
   "metadata": {},
   "outputs": [
    {
     "data": {
      "text/plain": [
       "0      gustavo@gmail.com\n",
       "1       miguel@gmail.com\n",
       "2     fernanda@gmail.com\n",
       "3        lucas@gmail.com\n",
       "4        vitor@gmail.com\n",
       "5        aline@gmail.com\n",
       "6        pedro@gmail.com\n",
       "7         lara@gmail.com\n",
       "8      antonio@gmail.com\n",
       "9          lua@gmail.com\n",
       "10      thiago@gmail.com\n",
       "11    priscila@gmail.com\n",
       "12     vitoria@gmail.com\n",
       "13     roberta@gmail.com\n",
       "14      carlos@gmail.com\n",
       "Name: email, dtype: object"
      ]
     },
     "execution_count": 63,
     "metadata": {},
     "output_type": "execute_result"
    }
   ],
   "source": [
    "# Eliminando os espaços vazios\n",
    "cdt['email'].str.replace(' ','')"
   ]
  },
  {
   "cell_type": "code",
   "execution_count": 65,
   "id": "3926c1f2",
   "metadata": {},
   "outputs": [],
   "source": [
    "# Atualizando a base\n",
    "cdt['email'] = cdt['email'].str.replace(' ','')"
   ]
  },
  {
   "cell_type": "markdown",
   "id": "b049414d",
   "metadata": {},
   "source": [
    "**Transformando a coluna Aniversario para datetime**"
   ]
  },
  {
   "cell_type": "code",
   "execution_count": 66,
   "id": "d33a20bb",
   "metadata": {},
   "outputs": [
    {
     "data": {
      "text/plain": [
       "0     21.11.2005\n",
       "1     20.06.2005\n",
       "2     26.11.2005\n",
       "3     26.08.2006\n",
       "4     02.12.2006\n",
       "5     20.12.2005\n",
       "6     09.09.2006\n",
       "7     05.07.2006\n",
       "8     07.08.2005\n",
       "9     04.06.2006\n",
       "10    27.11.2006\n",
       "11    06.04.2006\n",
       "12    18.03.2005\n",
       "13    09.05.2006\n",
       "14    24.07.2006\n",
       "Name: Aniversario, dtype: object"
      ]
     },
     "execution_count": 66,
     "metadata": {},
     "output_type": "execute_result"
    }
   ],
   "source": [
    "# Verificando as informações na coluna Aniversario\n",
    "cdt.Aniversario"
   ]
  },
  {
   "cell_type": "code",
   "execution_count": 67,
   "id": "f7d2e39f",
   "metadata": {},
   "outputs": [],
   "source": [
    "# Transformando em data\n",
    "cdt['Aniversario'] = pd.to_datetime(cdt.Aniversario, format = '%d.%m.%Y')"
   ]
  },
  {
   "cell_type": "markdown",
   "id": "fce69f92",
   "metadata": {},
   "source": [
    "**Separando o token do aluno nas colunas de gênero, mensalista, atividade e se ele já foi reprovado**"
   ]
  },
  {
   "cell_type": "code",
   "execution_count": 68,
   "id": "b24ed300",
   "metadata": {},
   "outputs": [
    {
     "data": {
      "text/plain": [
       "0      M1A\n",
       "1      M1I\n",
       "2      F1A\n",
       "3     M1AR\n",
       "4      M1A\n",
       "5      F1A\n",
       "6      M1A\n",
       "7      F0A\n",
       "8      M1A\n",
       "9      M1A\n",
       "10     M1A\n",
       "11     F0I\n",
       "12    F1AR\n",
       "13     F1A\n",
       "14     M1A\n",
       "Name: TokenAluno, dtype: object"
      ]
     },
     "execution_count": 68,
     "metadata": {},
     "output_type": "execute_result"
    }
   ],
   "source": [
    "# Verificando a coluna\n",
    "cdt.TokenAluno"
   ]
  },
  {
   "cell_type": "code",
   "execution_count": 69,
   "id": "c59dc707",
   "metadata": {},
   "outputs": [],
   "source": [
    "# O primeiro elemento é o gênero   # PODEMOS UTILIZAR TANTO O .STR[] QUANTO O .STR.GET()\n",
    "cdt['genero'] = cdt.TokenAluno.str[0]"
   ]
  },
  {
   "cell_type": "code",
   "execution_count": 70,
   "id": "957f8690",
   "metadata": {},
   "outputs": [],
   "source": [
    "# Marcando se o aluno é mensalista\n",
    "cdt['mensalista'] = cdt.TokenAluno.str.get(1) "
   ]
  },
  {
   "cell_type": "code",
   "execution_count": 71,
   "id": "b123cbc9",
   "metadata": {},
   "outputs": [],
   "source": [
    "# Fazendo o mesmo para a atividade\n",
    "cdt['atividade'] = cdt.TokenAluno.str.get(2)"
   ]
  },
  {
   "cell_type": "code",
   "execution_count": 72,
   "id": "057b125b",
   "metadata": {},
   "outputs": [],
   "source": [
    "# E para o reprovado\n",
    "cdt['reprovado'] = cdt.TokenAluno.str[3]"
   ]
  },
  {
   "cell_type": "code",
   "execution_count": 73,
   "id": "bc924776",
   "metadata": {},
   "outputs": [
    {
     "data": {
      "text/html": [
       "<div>\n",
       "<style scoped>\n",
       "    .dataframe tbody tr th:only-of-type {\n",
       "        vertical-align: middle;\n",
       "    }\n",
       "\n",
       "    .dataframe tbody tr th {\n",
       "        vertical-align: top;\n",
       "    }\n",
       "\n",
       "    .dataframe thead th {\n",
       "        text-align: right;\n",
       "    }\n",
       "</style>\n",
       "<table border=\"1\" class=\"dataframe\">\n",
       "  <thead>\n",
       "    <tr style=\"text-align: right;\">\n",
       "      <th></th>\n",
       "      <th>ID_aluno</th>\n",
       "      <th>email</th>\n",
       "      <th>Aniversario</th>\n",
       "      <th>TokenAluno</th>\n",
       "      <th>Atividades</th>\n",
       "      <th>genero</th>\n",
       "      <th>mensalista</th>\n",
       "      <th>atividade</th>\n",
       "      <th>reprovado</th>\n",
       "    </tr>\n",
       "  </thead>\n",
       "  <tbody>\n",
       "    <tr>\n",
       "      <th>0</th>\n",
       "      <td>1</td>\n",
       "      <td>gustavo@gmail.com</td>\n",
       "      <td>2005-11-21</td>\n",
       "      <td>M1A</td>\n",
       "      <td>Esporte</td>\n",
       "      <td>M</td>\n",
       "      <td>1</td>\n",
       "      <td>A</td>\n",
       "      <td>NaN</td>\n",
       "    </tr>\n",
       "    <tr>\n",
       "      <th>1</th>\n",
       "      <td>2</td>\n",
       "      <td>miguel@gmail.com</td>\n",
       "      <td>2005-06-20</td>\n",
       "      <td>M1I</td>\n",
       "      <td>NaN</td>\n",
       "      <td>M</td>\n",
       "      <td>1</td>\n",
       "      <td>I</td>\n",
       "      <td>NaN</td>\n",
       "    </tr>\n",
       "    <tr>\n",
       "      <th>2</th>\n",
       "      <td>3</td>\n",
       "      <td>fernanda@gmail.com</td>\n",
       "      <td>2005-11-26</td>\n",
       "      <td>F1A</td>\n",
       "      <td>Cultural</td>\n",
       "      <td>F</td>\n",
       "      <td>1</td>\n",
       "      <td>A</td>\n",
       "      <td>NaN</td>\n",
       "    </tr>\n",
       "    <tr>\n",
       "      <th>3</th>\n",
       "      <td>5</td>\n",
       "      <td>lucas@gmail.com</td>\n",
       "      <td>2006-08-26</td>\n",
       "      <td>M1AR</td>\n",
       "      <td>Esporte</td>\n",
       "      <td>M</td>\n",
       "      <td>1</td>\n",
       "      <td>A</td>\n",
       "      <td>R</td>\n",
       "    </tr>\n",
       "    <tr>\n",
       "      <th>4</th>\n",
       "      <td>4</td>\n",
       "      <td>vitor@gmail.com</td>\n",
       "      <td>2006-12-02</td>\n",
       "      <td>M1A</td>\n",
       "      <td>Esporte / Cultural</td>\n",
       "      <td>M</td>\n",
       "      <td>1</td>\n",
       "      <td>A</td>\n",
       "      <td>NaN</td>\n",
       "    </tr>\n",
       "  </tbody>\n",
       "</table>\n",
       "</div>"
      ],
      "text/plain": [
       "   ID_aluno               email Aniversario TokenAluno          Atividades  \\\n",
       "0         1   gustavo@gmail.com  2005-11-21        M1A             Esporte   \n",
       "1         2    miguel@gmail.com  2005-06-20        M1I                 NaN   \n",
       "2         3  fernanda@gmail.com  2005-11-26        F1A            Cultural   \n",
       "3         5     lucas@gmail.com  2006-08-26       M1AR             Esporte   \n",
       "4         4     vitor@gmail.com  2006-12-02        M1A  Esporte / Cultural   \n",
       "\n",
       "  genero mensalista atividade reprovado  \n",
       "0      M          1         A       NaN  \n",
       "1      M          1         I       NaN  \n",
       "2      F          1         A       NaN  \n",
       "3      M          1         A         R  \n",
       "4      M          1         A       NaN  "
      ]
     },
     "execution_count": 73,
     "metadata": {},
     "output_type": "execute_result"
    }
   ],
   "source": [
    "# Visualizando a base\n",
    "cdt.head()"
   ]
  },
  {
   "cell_type": "code",
   "execution_count": 74,
   "id": "2c5acdf2",
   "metadata": {},
   "outputs": [],
   "source": [
    "# Podemos trocar os valores vazios da coluna reprovado por N\n",
    "cdt['reprovado'] = cdt.reprovado.fillna('N')"
   ]
  },
  {
   "cell_type": "markdown",
   "id": "2a95fd4b",
   "metadata": {},
   "source": [
    "**Marcando os alunos que fazem esporte e que fazem atividades culturais**"
   ]
  },
  {
   "cell_type": "code",
   "execution_count": 75,
   "id": "238b9bcd",
   "metadata": {},
   "outputs": [],
   "source": [
    "# Selecionando alunos que praticam esporte\n",
    "cdt['esporte'] = cdt.Atividades.str.contains('Esporte', na=False)"
   ]
  },
  {
   "cell_type": "code",
   "execution_count": 76,
   "id": "8ac6eaa2",
   "metadata": {},
   "outputs": [],
   "source": [
    "# E alunos que praticam atividades culturais\n",
    "cdt['cultural'] = cdt.Atividades.str.contains('Cultura', na=False)"
   ]
  },
  {
   "cell_type": "code",
   "execution_count": 77,
   "id": "1cf98f74",
   "metadata": {},
   "outputs": [],
   "source": [
    "# Podemos também trocas True e False por 1 e 0\n",
    "cdt['esporte'] = cdt.esporte.apply(lambda x: 1 if x else 0)\n",
    "cdt['cultural'] = cdt.esporte.apply(lambda x: 1 if x else 0)"
   ]
  },
  {
   "cell_type": "code",
   "execution_count": 78,
   "id": "2f8ea0b3",
   "metadata": {},
   "outputs": [
    {
     "data": {
      "text/html": [
       "<div>\n",
       "<style scoped>\n",
       "    .dataframe tbody tr th:only-of-type {\n",
       "        vertical-align: middle;\n",
       "    }\n",
       "\n",
       "    .dataframe tbody tr th {\n",
       "        vertical-align: top;\n",
       "    }\n",
       "\n",
       "    .dataframe thead th {\n",
       "        text-align: right;\n",
       "    }\n",
       "</style>\n",
       "<table border=\"1\" class=\"dataframe\">\n",
       "  <thead>\n",
       "    <tr style=\"text-align: right;\">\n",
       "      <th></th>\n",
       "      <th>ID_aluno</th>\n",
       "      <th>email</th>\n",
       "      <th>Aniversario</th>\n",
       "      <th>TokenAluno</th>\n",
       "      <th>Atividades</th>\n",
       "      <th>genero</th>\n",
       "      <th>mensalista</th>\n",
       "      <th>atividade</th>\n",
       "      <th>reprovado</th>\n",
       "      <th>esporte</th>\n",
       "      <th>cultural</th>\n",
       "    </tr>\n",
       "  </thead>\n",
       "  <tbody>\n",
       "    <tr>\n",
       "      <th>0</th>\n",
       "      <td>1</td>\n",
       "      <td>gustavo@gmail.com</td>\n",
       "      <td>2005-11-21</td>\n",
       "      <td>M1A</td>\n",
       "      <td>Esporte</td>\n",
       "      <td>M</td>\n",
       "      <td>1</td>\n",
       "      <td>A</td>\n",
       "      <td>N</td>\n",
       "      <td>1</td>\n",
       "      <td>1</td>\n",
       "    </tr>\n",
       "    <tr>\n",
       "      <th>1</th>\n",
       "      <td>2</td>\n",
       "      <td>miguel@gmail.com</td>\n",
       "      <td>2005-06-20</td>\n",
       "      <td>M1I</td>\n",
       "      <td>NaN</td>\n",
       "      <td>M</td>\n",
       "      <td>1</td>\n",
       "      <td>I</td>\n",
       "      <td>N</td>\n",
       "      <td>0</td>\n",
       "      <td>0</td>\n",
       "    </tr>\n",
       "    <tr>\n",
       "      <th>2</th>\n",
       "      <td>3</td>\n",
       "      <td>fernanda@gmail.com</td>\n",
       "      <td>2005-11-26</td>\n",
       "      <td>F1A</td>\n",
       "      <td>Cultural</td>\n",
       "      <td>F</td>\n",
       "      <td>1</td>\n",
       "      <td>A</td>\n",
       "      <td>N</td>\n",
       "      <td>0</td>\n",
       "      <td>0</td>\n",
       "    </tr>\n",
       "    <tr>\n",
       "      <th>3</th>\n",
       "      <td>5</td>\n",
       "      <td>lucas@gmail.com</td>\n",
       "      <td>2006-08-26</td>\n",
       "      <td>M1AR</td>\n",
       "      <td>Esporte</td>\n",
       "      <td>M</td>\n",
       "      <td>1</td>\n",
       "      <td>A</td>\n",
       "      <td>R</td>\n",
       "      <td>1</td>\n",
       "      <td>1</td>\n",
       "    </tr>\n",
       "    <tr>\n",
       "      <th>4</th>\n",
       "      <td>4</td>\n",
       "      <td>vitor@gmail.com</td>\n",
       "      <td>2006-12-02</td>\n",
       "      <td>M1A</td>\n",
       "      <td>Esporte / Cultural</td>\n",
       "      <td>M</td>\n",
       "      <td>1</td>\n",
       "      <td>A</td>\n",
       "      <td>N</td>\n",
       "      <td>1</td>\n",
       "      <td>1</td>\n",
       "    </tr>\n",
       "  </tbody>\n",
       "</table>\n",
       "</div>"
      ],
      "text/plain": [
       "   ID_aluno               email Aniversario TokenAluno          Atividades  \\\n",
       "0         1   gustavo@gmail.com  2005-11-21        M1A             Esporte   \n",
       "1         2    miguel@gmail.com  2005-06-20        M1I                 NaN   \n",
       "2         3  fernanda@gmail.com  2005-11-26        F1A            Cultural   \n",
       "3         5     lucas@gmail.com  2006-08-26       M1AR             Esporte   \n",
       "4         4     vitor@gmail.com  2006-12-02        M1A  Esporte / Cultural   \n",
       "\n",
       "  genero mensalista atividade reprovado  esporte  cultural  \n",
       "0      M          1         A         N        1         1  \n",
       "1      M          1         I         N        0         0  \n",
       "2      F          1         A         N        0         0  \n",
       "3      M          1         A         R        1         1  \n",
       "4      M          1         A         N        1         1  "
      ]
     },
     "execution_count": 78,
     "metadata": {},
     "output_type": "execute_result"
    }
   ],
   "source": [
    "# Visualizando\n",
    "cdt.head()"
   ]
  },
  {
   "cell_type": "markdown",
   "id": "b4e092a3",
   "metadata": {},
   "source": [
    "**Para finalizar, podemos apenas apagar as colunas que não vamos mais utilizar**"
   ]
  },
  {
   "cell_type": "code",
   "execution_count": 80,
   "id": "0fb344a1",
   "metadata": {},
   "outputs": [
    {
     "data": {
      "text/html": [
       "<div>\n",
       "<style scoped>\n",
       "    .dataframe tbody tr th:only-of-type {\n",
       "        vertical-align: middle;\n",
       "    }\n",
       "\n",
       "    .dataframe tbody tr th {\n",
       "        vertical-align: top;\n",
       "    }\n",
       "\n",
       "    .dataframe thead th {\n",
       "        text-align: right;\n",
       "    }\n",
       "</style>\n",
       "<table border=\"1\" class=\"dataframe\">\n",
       "  <thead>\n",
       "    <tr style=\"text-align: right;\">\n",
       "      <th></th>\n",
       "      <th>ID_aluno</th>\n",
       "      <th>email</th>\n",
       "      <th>Aniversario</th>\n",
       "      <th>genero</th>\n",
       "      <th>mensalista</th>\n",
       "      <th>atividade</th>\n",
       "      <th>reprovado</th>\n",
       "      <th>esporte</th>\n",
       "      <th>cultural</th>\n",
       "    </tr>\n",
       "  </thead>\n",
       "  <tbody>\n",
       "    <tr>\n",
       "      <th>0</th>\n",
       "      <td>1</td>\n",
       "      <td>gustavo@gmail.com</td>\n",
       "      <td>2005-11-21</td>\n",
       "      <td>M</td>\n",
       "      <td>1</td>\n",
       "      <td>A</td>\n",
       "      <td>N</td>\n",
       "      <td>1</td>\n",
       "      <td>1</td>\n",
       "    </tr>\n",
       "    <tr>\n",
       "      <th>1</th>\n",
       "      <td>2</td>\n",
       "      <td>miguel@gmail.com</td>\n",
       "      <td>2005-06-20</td>\n",
       "      <td>M</td>\n",
       "      <td>1</td>\n",
       "      <td>I</td>\n",
       "      <td>N</td>\n",
       "      <td>0</td>\n",
       "      <td>0</td>\n",
       "    </tr>\n",
       "    <tr>\n",
       "      <th>2</th>\n",
       "      <td>3</td>\n",
       "      <td>fernanda@gmail.com</td>\n",
       "      <td>2005-11-26</td>\n",
       "      <td>F</td>\n",
       "      <td>1</td>\n",
       "      <td>A</td>\n",
       "      <td>N</td>\n",
       "      <td>0</td>\n",
       "      <td>0</td>\n",
       "    </tr>\n",
       "    <tr>\n",
       "      <th>3</th>\n",
       "      <td>5</td>\n",
       "      <td>lucas@gmail.com</td>\n",
       "      <td>2006-08-26</td>\n",
       "      <td>M</td>\n",
       "      <td>1</td>\n",
       "      <td>A</td>\n",
       "      <td>R</td>\n",
       "      <td>1</td>\n",
       "      <td>1</td>\n",
       "    </tr>\n",
       "    <tr>\n",
       "      <th>4</th>\n",
       "      <td>4</td>\n",
       "      <td>vitor@gmail.com</td>\n",
       "      <td>2006-12-02</td>\n",
       "      <td>M</td>\n",
       "      <td>1</td>\n",
       "      <td>A</td>\n",
       "      <td>N</td>\n",
       "      <td>1</td>\n",
       "      <td>1</td>\n",
       "    </tr>\n",
       "    <tr>\n",
       "      <th>5</th>\n",
       "      <td>6</td>\n",
       "      <td>aline@gmail.com</td>\n",
       "      <td>2005-12-20</td>\n",
       "      <td>F</td>\n",
       "      <td>1</td>\n",
       "      <td>A</td>\n",
       "      <td>N</td>\n",
       "      <td>0</td>\n",
       "      <td>0</td>\n",
       "    </tr>\n",
       "    <tr>\n",
       "      <th>6</th>\n",
       "      <td>7</td>\n",
       "      <td>pedro@gmail.com</td>\n",
       "      <td>2006-09-09</td>\n",
       "      <td>M</td>\n",
       "      <td>1</td>\n",
       "      <td>A</td>\n",
       "      <td>N</td>\n",
       "      <td>1</td>\n",
       "      <td>1</td>\n",
       "    </tr>\n",
       "    <tr>\n",
       "      <th>7</th>\n",
       "      <td>8</td>\n",
       "      <td>lara@gmail.com</td>\n",
       "      <td>2006-07-05</td>\n",
       "      <td>F</td>\n",
       "      <td>0</td>\n",
       "      <td>A</td>\n",
       "      <td>N</td>\n",
       "      <td>0</td>\n",
       "      <td>0</td>\n",
       "    </tr>\n",
       "    <tr>\n",
       "      <th>8</th>\n",
       "      <td>9</td>\n",
       "      <td>antonio@gmail.com</td>\n",
       "      <td>2005-08-07</td>\n",
       "      <td>M</td>\n",
       "      <td>1</td>\n",
       "      <td>A</td>\n",
       "      <td>N</td>\n",
       "      <td>0</td>\n",
       "      <td>0</td>\n",
       "    </tr>\n",
       "    <tr>\n",
       "      <th>9</th>\n",
       "      <td>10</td>\n",
       "      <td>lua@gmail.com</td>\n",
       "      <td>2006-06-04</td>\n",
       "      <td>M</td>\n",
       "      <td>1</td>\n",
       "      <td>A</td>\n",
       "      <td>N</td>\n",
       "      <td>0</td>\n",
       "      <td>0</td>\n",
       "    </tr>\n",
       "    <tr>\n",
       "      <th>10</th>\n",
       "      <td>11</td>\n",
       "      <td>thiago@gmail.com</td>\n",
       "      <td>2006-11-27</td>\n",
       "      <td>M</td>\n",
       "      <td>1</td>\n",
       "      <td>A</td>\n",
       "      <td>N</td>\n",
       "      <td>1</td>\n",
       "      <td>1</td>\n",
       "    </tr>\n",
       "    <tr>\n",
       "      <th>11</th>\n",
       "      <td>12</td>\n",
       "      <td>priscila@gmail.com</td>\n",
       "      <td>2006-04-06</td>\n",
       "      <td>F</td>\n",
       "      <td>0</td>\n",
       "      <td>I</td>\n",
       "      <td>N</td>\n",
       "      <td>0</td>\n",
       "      <td>0</td>\n",
       "    </tr>\n",
       "    <tr>\n",
       "      <th>12</th>\n",
       "      <td>13</td>\n",
       "      <td>vitoria@gmail.com</td>\n",
       "      <td>2005-03-18</td>\n",
       "      <td>F</td>\n",
       "      <td>1</td>\n",
       "      <td>A</td>\n",
       "      <td>R</td>\n",
       "      <td>1</td>\n",
       "      <td>1</td>\n",
       "    </tr>\n",
       "    <tr>\n",
       "      <th>13</th>\n",
       "      <td>14</td>\n",
       "      <td>roberta@gmail.com</td>\n",
       "      <td>2006-05-09</td>\n",
       "      <td>F</td>\n",
       "      <td>1</td>\n",
       "      <td>A</td>\n",
       "      <td>N</td>\n",
       "      <td>1</td>\n",
       "      <td>1</td>\n",
       "    </tr>\n",
       "    <tr>\n",
       "      <th>14</th>\n",
       "      <td>15</td>\n",
       "      <td>carlos@gmail.com</td>\n",
       "      <td>2006-07-24</td>\n",
       "      <td>M</td>\n",
       "      <td>1</td>\n",
       "      <td>A</td>\n",
       "      <td>N</td>\n",
       "      <td>0</td>\n",
       "      <td>0</td>\n",
       "    </tr>\n",
       "  </tbody>\n",
       "</table>\n",
       "</div>"
      ],
      "text/plain": [
       "    ID_aluno               email Aniversario genero mensalista atividade  \\\n",
       "0          1   gustavo@gmail.com  2005-11-21      M          1         A   \n",
       "1          2    miguel@gmail.com  2005-06-20      M          1         I   \n",
       "2          3  fernanda@gmail.com  2005-11-26      F          1         A   \n",
       "3          5     lucas@gmail.com  2006-08-26      M          1         A   \n",
       "4          4     vitor@gmail.com  2006-12-02      M          1         A   \n",
       "5          6     aline@gmail.com  2005-12-20      F          1         A   \n",
       "6          7     pedro@gmail.com  2006-09-09      M          1         A   \n",
       "7          8      lara@gmail.com  2006-07-05      F          0         A   \n",
       "8          9   antonio@gmail.com  2005-08-07      M          1         A   \n",
       "9         10       lua@gmail.com  2006-06-04      M          1         A   \n",
       "10        11    thiago@gmail.com  2006-11-27      M          1         A   \n",
       "11        12  priscila@gmail.com  2006-04-06      F          0         I   \n",
       "12        13   vitoria@gmail.com  2005-03-18      F          1         A   \n",
       "13        14   roberta@gmail.com  2006-05-09      F          1         A   \n",
       "14        15    carlos@gmail.com  2006-07-24      M          1         A   \n",
       "\n",
       "   reprovado  esporte  cultural  \n",
       "0          N        1         1  \n",
       "1          N        0         0  \n",
       "2          N        0         0  \n",
       "3          R        1         1  \n",
       "4          N        1         1  \n",
       "5          N        0         0  \n",
       "6          N        1         1  \n",
       "7          N        0         0  \n",
       "8          N        0         0  \n",
       "9          N        0         0  \n",
       "10         N        1         1  \n",
       "11         N        0         0  \n",
       "12         R        1         1  \n",
       "13         N        1         1  \n",
       "14         N        0         0  "
      ]
     },
     "execution_count": 80,
     "metadata": {},
     "output_type": "execute_result"
    }
   ],
   "source": [
    "# Apagando as colunas\n",
    "cdt.drop(['TokenAluno', 'Atividades'], axis = 1)"
   ]
  },
  {
   "cell_type": "code",
   "execution_count": 81,
   "id": "c9aae800",
   "metadata": {},
   "outputs": [
    {
     "data": {
      "text/html": [
       "<div>\n",
       "<style scoped>\n",
       "    .dataframe tbody tr th:only-of-type {\n",
       "        vertical-align: middle;\n",
       "    }\n",
       "\n",
       "    .dataframe tbody tr th {\n",
       "        vertical-align: top;\n",
       "    }\n",
       "\n",
       "    .dataframe thead th {\n",
       "        text-align: right;\n",
       "    }\n",
       "</style>\n",
       "<table border=\"1\" class=\"dataframe\">\n",
       "  <thead>\n",
       "    <tr style=\"text-align: right;\">\n",
       "      <th></th>\n",
       "      <th>ID_aluno</th>\n",
       "      <th>email</th>\n",
       "      <th>Aniversario</th>\n",
       "      <th>TokenAluno</th>\n",
       "      <th>Atividades</th>\n",
       "      <th>genero</th>\n",
       "      <th>mensalista</th>\n",
       "      <th>atividade</th>\n",
       "      <th>reprovado</th>\n",
       "      <th>esporte</th>\n",
       "      <th>cultural</th>\n",
       "    </tr>\n",
       "  </thead>\n",
       "  <tbody>\n",
       "    <tr>\n",
       "      <th>0</th>\n",
       "      <td>1</td>\n",
       "      <td>gustavo@gmail.com</td>\n",
       "      <td>2005-11-21</td>\n",
       "      <td>M1A</td>\n",
       "      <td>Esporte</td>\n",
       "      <td>M</td>\n",
       "      <td>1</td>\n",
       "      <td>A</td>\n",
       "      <td>N</td>\n",
       "      <td>1</td>\n",
       "      <td>1</td>\n",
       "    </tr>\n",
       "    <tr>\n",
       "      <th>1</th>\n",
       "      <td>2</td>\n",
       "      <td>miguel@gmail.com</td>\n",
       "      <td>2005-06-20</td>\n",
       "      <td>M1I</td>\n",
       "      <td>NaN</td>\n",
       "      <td>M</td>\n",
       "      <td>1</td>\n",
       "      <td>I</td>\n",
       "      <td>N</td>\n",
       "      <td>0</td>\n",
       "      <td>0</td>\n",
       "    </tr>\n",
       "    <tr>\n",
       "      <th>2</th>\n",
       "      <td>3</td>\n",
       "      <td>fernanda@gmail.com</td>\n",
       "      <td>2005-11-26</td>\n",
       "      <td>F1A</td>\n",
       "      <td>Cultural</td>\n",
       "      <td>F</td>\n",
       "      <td>1</td>\n",
       "      <td>A</td>\n",
       "      <td>N</td>\n",
       "      <td>0</td>\n",
       "      <td>0</td>\n",
       "    </tr>\n",
       "    <tr>\n",
       "      <th>3</th>\n",
       "      <td>5</td>\n",
       "      <td>lucas@gmail.com</td>\n",
       "      <td>2006-08-26</td>\n",
       "      <td>M1AR</td>\n",
       "      <td>Esporte</td>\n",
       "      <td>M</td>\n",
       "      <td>1</td>\n",
       "      <td>A</td>\n",
       "      <td>R</td>\n",
       "      <td>1</td>\n",
       "      <td>1</td>\n",
       "    </tr>\n",
       "    <tr>\n",
       "      <th>4</th>\n",
       "      <td>4</td>\n",
       "      <td>vitor@gmail.com</td>\n",
       "      <td>2006-12-02</td>\n",
       "      <td>M1A</td>\n",
       "      <td>Esporte / Cultural</td>\n",
       "      <td>M</td>\n",
       "      <td>1</td>\n",
       "      <td>A</td>\n",
       "      <td>N</td>\n",
       "      <td>1</td>\n",
       "      <td>1</td>\n",
       "    </tr>\n",
       "  </tbody>\n",
       "</table>\n",
       "</div>"
      ],
      "text/plain": [
       "   ID_aluno               email Aniversario TokenAluno          Atividades  \\\n",
       "0         1   gustavo@gmail.com  2005-11-21        M1A             Esporte   \n",
       "1         2    miguel@gmail.com  2005-06-20        M1I                 NaN   \n",
       "2         3  fernanda@gmail.com  2005-11-26        F1A            Cultural   \n",
       "3         5     lucas@gmail.com  2006-08-26       M1AR             Esporte   \n",
       "4         4     vitor@gmail.com  2006-12-02        M1A  Esporte / Cultural   \n",
       "\n",
       "  genero mensalista atividade reprovado  esporte  cultural  \n",
       "0      M          1         A         N        1         1  \n",
       "1      M          1         I         N        0         0  \n",
       "2      F          1         A         N        0         0  \n",
       "3      M          1         A         R        1         1  \n",
       "4      M          1         A         N        1         1  "
      ]
     },
     "execution_count": 81,
     "metadata": {},
     "output_type": "execute_result"
    }
   ],
   "source": [
    "# Visualizando a base final\n",
    "cdt.head()"
   ]
  }
 ],
 "metadata": {
  "kernelspec": {
   "display_name": "Python 3 (ipykernel)",
   "language": "python",
   "name": "python3"
  },
  "language_info": {
   "codemirror_mode": {
    "name": "ipython",
    "version": 3
   },
   "file_extension": ".py",
   "mimetype": "text/x-python",
   "name": "python",
   "nbconvert_exporter": "python",
   "pygments_lexer": "ipython3",
   "version": "3.9.13"
  }
 },
 "nbformat": 4,
 "nbformat_minor": 5
}
